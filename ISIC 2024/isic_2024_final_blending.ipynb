{
  "cells": [
    {
      "cell_type": "code",
      "execution_count": null,
      "id": "e0838b38",
      "metadata": {
        "execution": {
          "iopub.execute_input": "2024-09-24T16:43:24.707288Z",
          "iopub.status.busy": "2024-09-24T16:43:24.706955Z",
          "iopub.status.idle": "2024-09-24T16:43:30.750959Z",
          "shell.execute_reply": "2024-09-24T16:43:30.750194Z"
        },
        "papermill": {
          "duration": 6.05601,
          "end_time": "2024-09-24T16:43:30.753453",
          "exception": false,
          "start_time": "2024-09-24T16:43:24.697443",
          "status": "completed"
        },
        "tags": [],
        "id": "e0838b38"
      },
      "outputs": [],
      "source": [
        "import os\n",
        "import gc\n",
        "import time\n",
        "import copy\n",
        "import optuna\n",
        "from pathlib import Path\n",
        "import numpy as np, pandas as pd, polars as pl\n",
        "\n",
        "from sklearn.model_selection import GroupKFold\n",
        "from sklearn.model_selection import StratifiedGroupKFold\n",
        "from sklearn.model_selection import cross_val_score\n",
        "from sklearn.preprocessing import OneHotEncoder\n",
        "from sklearn.metrics import roc_auc_score\n",
        "from sklearn.metrics import mean_squared_error\n",
        "from sklearn.ensemble import VotingClassifier\n",
        "\n",
        "from imblearn.under_sampling import RandomUnderSampler\n",
        "from imblearn.pipeline import Pipeline\n",
        "from imblearn.over_sampling import RandomOverSampler\n",
        "\n",
        "import lightgbm as lgb, catboost as cb, xgboost as xgb\n",
        "from sklearn.base import BaseEstimator, TransformerMixin"
      ]
    },
    {
      "cell_type": "markdown",
      "id": "2ad0939b",
      "metadata": {
        "papermill": {
          "duration": 0.00845,
          "end_time": "2024-09-24T16:43:30.770911",
          "exception": false,
          "start_time": "2024-09-24T16:43:30.762461",
          "status": "completed"
        },
        "tags": [],
        "id": "2ad0939b"
      },
      "source": [
        "# IMAGE PREDICTIONS"
      ]
    },
    {
      "cell_type": "code",
      "execution_count": null,
      "id": "47e9d7c2",
      "metadata": {
        "execution": {
          "iopub.execute_input": "2024-09-24T16:43:30.789527Z",
          "iopub.status.busy": "2024-09-24T16:43:30.788976Z",
          "iopub.status.idle": "2024-09-24T16:43:44.295028Z",
          "shell.execute_reply": "2024-09-24T16:43:44.293715Z"
        },
        "papermill": {
          "duration": 13.517989,
          "end_time": "2024-09-24T16:43:44.297442",
          "exception": false,
          "start_time": "2024-09-24T16:43:30.779453",
          "status": "completed"
        },
        "tags": [],
        "id": "47e9d7c2",
        "outputId": "1dd2a620-a0ce-49ed-9a25-98aa965b99e2"
      },
      "outputs": [
        {
          "name": "stdout",
          "output_type": "stream",
          "text": [
            "BEST_WEIGHT = /kaggle/input/isic-pytorch-training-baseline-image-only/AUROC0.5171_Loss0.3476_epoch35.bin\r\n",
            "100%|█████████████████████████████████████████████| 1/1 [00:00<00:00,  1.10it/s]\r\n"
          ]
        }
      ],
      "source": [
        "!python /kaggle/input/isic-script-inference-effnetv1b0-f313ae/main.py /kaggle/input/isic-pytorch-training-baseline-image-only/AUROC0.5171_Loss0.3476_epoch35.bin\n",
        "!mv submission.csv submission_effnetv1b0.csv\n"
      ]
    },
    {
      "cell_type": "code",
      "execution_count": null,
      "id": "cc21cadd",
      "metadata": {
        "execution": {
          "iopub.execute_input": "2024-09-24T16:43:44.317508Z",
          "iopub.status.busy": "2024-09-24T16:43:44.317144Z",
          "iopub.status.idle": "2024-09-24T16:44:05.799266Z",
          "shell.execute_reply": "2024-09-24T16:44:05.798218Z"
        },
        "papermill": {
          "duration": 21.494589,
          "end_time": "2024-09-24T16:44:05.801574",
          "exception": false,
          "start_time": "2024-09-24T16:43:44.306985",
          "status": "completed"
        },
        "tags": [],
        "id": "cc21cadd",
        "outputId": "72ebe42e-48c6-45bc-b614-e94d5f396564"
      },
      "outputs": [
        {
          "name": "stdout",
          "output_type": "stream",
          "text": [
            "/kaggle/input/isic-2024-pl-submission-script-and-preds/pl_submission.py:25: DtypeWarning: Columns (51,52) have mixed types. Specify dtype option on import or set low_memory=False.\r\n",
            "  df_train_meta = pd.read_csv(BASE_DATA_DIR + \"train-metadata.csv\")\r\n"
          ]
        }
      ],
      "source": [
        "#TARGET 3\n",
        "!python /kaggle/input/isic-2024-pl-submission-script-and-preds1/pl_submission.py\n",
        "!mv submission.csv submission_image3.csv"
      ]
    },
    {
      "cell_type": "markdown",
      "id": "b24ac11b",
      "metadata": {
        "papermill": {
          "duration": 0.008684,
          "end_time": "2024-09-24T16:44:05.820064",
          "exception": false,
          "start_time": "2024-09-24T16:44:05.811380",
          "status": "completed"
        },
        "tags": [],
        "id": "b24ac11b"
      },
      "source": [
        "# DATA PREPROCESS"
      ]
    },
    {
      "cell_type": "code",
      "execution_count": null,
      "id": "fdca443c",
      "metadata": {
        "execution": {
          "iopub.execute_input": "2024-09-24T16:44:05.840730Z",
          "iopub.status.busy": "2024-09-24T16:44:05.840418Z",
          "iopub.status.idle": "2024-09-24T16:44:05.856325Z",
          "shell.execute_reply": "2024-09-24T16:44:05.855508Z"
        },
        "papermill": {
          "duration": 0.028407,
          "end_time": "2024-09-24T16:44:05.858301",
          "exception": false,
          "start_time": "2024-09-24T16:44:05.829894",
          "status": "completed"
        },
        "tags": [],
        "id": "fdca443c"
      },
      "outputs": [],
      "source": [
        "root = Path('/kaggle/input/isic-2024-challenge')\n",
        "\n",
        "train_path = root / 'train-metadata.csv'\n",
        "test_path = root / 'test-metadata.csv'\n",
        "subm_path = root / 'sample_submission.csv'\n",
        "\n",
        "id_col = 'isic_id'\n",
        "target_col = 'target'\n",
        "group_col = 'patient_id'\n",
        "\n",
        "err = 1e-5\n",
        "sampling_ratio = 0.01\n",
        "seed = 42\n",
        "\n",
        "num_cols = [\n",
        "    'age_approx',                        # Approximate age of patient at time of imaging.\n",
        "    'clin_size_long_diam_mm',            # Maximum diameter of the lesion (mm).+\n",
        "    'tbp_lv_A',                          # A inside  lesion.+\n",
        "    'tbp_lv_Aext',                       # A outside lesion.+\n",
        "    'tbp_lv_B',                          # B inside  lesion.+\n",
        "    'tbp_lv_Bext',                       # B outside lesion.+\n",
        "    'tbp_lv_C',                          # Chroma inside  lesion.+\n",
        "    'tbp_lv_Cext',                       # Chroma outside lesion.+\n",
        "    'tbp_lv_H',                          # Hue inside the lesion; calculated as the angle of A* and B* in LAB* color space. Typical values range from 25 (red) to 75 (brown).+\n",
        "    'tbp_lv_Hext',                       # Hue outside lesion.+\n",
        "    'tbp_lv_L',                          # L inside lesion.+\n",
        "    'tbp_lv_Lext',                       # L outside lesion.+\n",
        "    'tbp_lv_areaMM2',                    # Area of lesion (mm^2).+\n",
        "    'tbp_lv_area_perim_ratio',           # Border jaggedness, the ratio between lesions perimeter and area. Circular lesions will have low values; irregular shaped lesions will have higher values. Values range 0-10.+\n",
        "    'tbp_lv_color_std_mean',             # Color irregularity, calculated as the variance of colors within the lesion's boundary.\n",
        "    'tbp_lv_deltaA',                     # Average A contrast (inside vs. outside lesion).+\n",
        "    'tbp_lv_deltaB',                     # Average B contrast (inside vs. outside lesion).+\n",
        "    'tbp_lv_deltaL',                     # Average L contrast (inside vs. outside lesion).+\n",
        "    'tbp_lv_deltaLB',                    #\n",
        "    'tbp_lv_deltaLBnorm',                # Contrast between the lesion and its immediate surrounding skin. Low contrast lesions tend to be faintly visible such as freckles; high contrast lesions tend to be those with darker pigment. Calculated as the average delta LB of the lesion relative to its immediate background in LAB* color space. Typical values range from 5.5 to 25.+\n",
        "    'tbp_lv_eccentricity',               # Eccentricity.+\n",
        "    'tbp_lv_minorAxisMM',                # Smallest lesion diameter (mm).+\n",
        "    'tbp_lv_nevi_confidence',            # Nevus confidence score (0-100 scale) is a convolutional neural network classifier estimated probability that the lesion is a nevus. The neural network was trained on approximately 57,000 lesions that were classified and labeled by a dermatologist.+,++\n",
        "    'tbp_lv_norm_border',                # Border irregularity (0-10 scale); the normalized average of border jaggedness and asymmetry.+\n",
        "    'tbp_lv_norm_color',                 # Color variation (0-10 scale); the normalized average of color asymmetry and color irregularity.+\n",
        "    'tbp_lv_perimeterMM',                # Perimeter of lesion (mm).+\n",
        "    'tbp_lv_radial_color_std_max',       # Color asymmetry, a measure of asymmetry of the spatial distribution of color within the lesion. This score is calculated by looking at the average standard deviation in LAB* color space within concentric rings originating from the lesion center. Values range 0-10.+\n",
        "    'tbp_lv_stdL',                       # Standard deviation of L inside  lesion.+\n",
        "    'tbp_lv_stdLExt',                    # Standard deviation of L outside lesion.+\n",
        "    'tbp_lv_symm_2axis',                 # Border asymmetry; a measure of asymmetry of the lesion's contour about an axis perpendicular to the lesion's most symmetric axis. Lesions with two axes of symmetry will therefore have low scores (more symmetric), while lesions with only one or zero axes of symmetry will have higher scores (less symmetric). This score is calculated by comparing opposite halves of the lesion contour over many degrees of rotation. The angle where the halves are most similar identifies the principal axis of symmetry, while the second axis of symmetry is perpendicular to the principal axis. Border asymmetry is reported as the asymmetry value about this second axis. Values range 0-10.+\n",
        "    'tbp_lv_symm_2axis_angle',           # Lesion border asymmetry angle.+\n",
        "    'tbp_lv_x',                          # X-coordinate of the lesion on 3D TBP.+\n",
        "    'tbp_lv_y',                          # Y-coordinate of the lesion on 3D TBP.+\n",
        "    'tbp_lv_z',                          # Z-coordinate of the lesion on 3D TBP.+\n",
        "]\n",
        "\n",
        "new_num_cols = [\n",
        "    'lesion_size_ratio',                 # tbp_lv_minorAxisMM      / clin_size_long_diam_mm\n",
        "    'lesion_shape_index',                # tbp_lv_areaMM2          / tbp_lv_perimeterMM **2\n",
        "    'hue_contrast',                      # tbp_lv_H                - tbp_lv_Hext              abs\n",
        "    'luminance_contrast',                # tbp_lv_L                - tbp_lv_Lext              abs\n",
        "    'lesion_color_difference',           # tbp_lv_deltaA **2       + tbp_lv_deltaB **2 + tbp_lv_deltaL **2  sqrt\n",
        "    'border_complexity',                 # tbp_lv_norm_border      + tbp_lv_symm_2axis\n",
        "    'color_uniformity',                  # tbp_lv_color_std_mean   / tbp_lv_radial_color_std_max\n",
        "\n",
        "    'position_distance_3d',              # tbp_lv_x **2 + tbp_lv_y **2 + tbp_lv_z **2  sqrt\n",
        "    'perimeter_to_area_ratio',           # tbp_lv_perimeterMM      / tbp_lv_areaMM2\n",
        "    'area_to_perimeter_ratio',           # tbp_lv_areaMM2          / tbp_lv_perimeterMM\n",
        "    'lesion_visibility_score',           # tbp_lv_deltaLBnorm      + tbp_lv_norm_color\n",
        "    'symmetry_border_consistency',       # tbp_lv_symm_2axis       * tbp_lv_norm_border\n",
        "    'consistency_symmetry_border',       # tbp_lv_symm_2axis       * tbp_lv_norm_border / (tbp_lv_symm_2axis + tbp_lv_norm_border)\n",
        "\n",
        "    'color_consistency',                 # tbp_lv_stdL             / tbp_lv_Lext\n",
        "    'consistency_color',                 # tbp_lv_stdL*tbp_lv_Lext / tbp_lv_stdL + tbp_lv_Lext\n",
        "    'size_age_interaction',              # clin_size_long_diam_mm  * age_approx\n",
        "    'hue_color_std_interaction',         # tbp_lv_H                * tbp_lv_color_std_mean\n",
        "    'lesion_severity_index',             # tbp_lv_norm_border      + tbp_lv_norm_color + tbp_lv_eccentricity / 3\n",
        "    'shape_complexity_index',            # border_complexity       + lesion_shape_index\n",
        "    'color_contrast_index',              # tbp_lv_deltaA + tbp_lv_deltaB + tbp_lv_deltaL + tbp_lv_deltaLBnorm\n",
        "\n",
        "    'log_lesion_area',                   # tbp_lv_areaMM2          + 1  np.log\n",
        "    'normalized_lesion_size',            # clin_size_long_diam_mm  / age_approx\n",
        "    'mean_hue_difference',               # tbp_lv_H                + tbp_lv_Hext    / 2\n",
        "    'std_dev_contrast',                  # tbp_lv_deltaA **2 + tbp_lv_deltaB **2 + tbp_lv_deltaL **2   / 3  np.sqrt\n",
        "    'color_shape_composite_index',       # tbp_lv_color_std_mean   + bp_lv_area_perim_ratio + tbp_lv_symm_2axis   / 3\n",
        "    'lesion_orientation_3d',             # tbp_lv_y                , tbp_lv_x  np.arctan2\n",
        "    'overall_color_difference',          # tbp_lv_deltaA           + tbp_lv_deltaB + tbp_lv_deltaL   / 3\n",
        "\n",
        "    'symmetry_perimeter_interaction',    # tbp_lv_symm_2axis       * tbp_lv_perimeterMM\n",
        "    'comprehensive_lesion_index',        # tbp_lv_area_perim_ratio + tbp_lv_eccentricity + bp_lv_norm_color + tbp_lv_symm_2axis   / 4\n",
        "    'color_variance_ratio',              # tbp_lv_color_std_mean   / tbp_lv_stdLExt\n",
        "    'border_color_interaction',          # tbp_lv_norm_border      * tbp_lv_norm_color\n",
        "    'border_color_interaction_2',\n",
        "    'size_color_contrast_ratio',         # clin_size_long_diam_mm  / tbp_lv_deltaLBnorm\n",
        "    'age_normalized_nevi_confidence',    # tbp_lv_nevi_confidence  / age_approx\n",
        "    'age_normalized_nevi_confidence_2',\n",
        "    'color_asymmetry_index',             # tbp_lv_symm_2axis       * tbp_lv_radial_color_std_max\n",
        "\n",
        "    'volume_approximation_3d',           # tbp_lv_areaMM2          * sqrt(tbp_lv_x**2 + tbp_lv_y**2 + tbp_lv_z**2)\n",
        "    'color_range',                       # abs(tbp_lv_L - tbp_lv_Lext) + abs(tbp_lv_A - tbp_lv_Aext) + abs(tbp_lv_B - tbp_lv_Bext)\n",
        "    'shape_color_consistency',           # tbp_lv_eccentricity     * tbp_lv_color_std_mean\n",
        "    'border_length_ratio',               # tbp_lv_perimeterMM      / pi * sqrt(tbp_lv_areaMM2 / pi)\n",
        "    'age_size_symmetry_index',           # age_approx              * clin_size_long_diam_mm * tbp_lv_symm_2axis\n",
        "    'index_age_size_symmetry',           # age_approx              * tbp_lv_areaMM2 * tbp_lv_symm_2axis\n",
        "]\n",
        "\n",
        "cat_cols = ['sex', 'anatom_site_general', 'tbp_tile_type', 'tbp_lv_location', 'tbp_lv_location_simple', 'attribution']\n",
        "norm_cols = [f'{col}_patient_norm' for col in num_cols + new_num_cols]\n",
        "special_cols = ['count_per_patient']\n",
        "image_cols = [\"target_3\",\"target_effnetv1b0\"]\n",
        "\n",
        "#norm_cols += image_cols\n",
        "feature_cols = num_cols + new_num_cols + cat_cols + norm_cols + special_cols"
      ]
    },
    {
      "cell_type": "code",
      "execution_count": null,
      "id": "67f36b52",
      "metadata": {
        "execution": {
          "iopub.execute_input": "2024-09-24T16:44:05.877102Z",
          "iopub.status.busy": "2024-09-24T16:44:05.876833Z",
          "iopub.status.idle": "2024-09-24T16:44:05.905009Z",
          "shell.execute_reply": "2024-09-24T16:44:05.904196Z"
        },
        "papermill": {
          "duration": 0.039775,
          "end_time": "2024-09-24T16:44:05.906950",
          "exception": false,
          "start_time": "2024-09-24T16:44:05.867175",
          "status": "completed"
        },
        "tags": [],
        "id": "67f36b52"
      },
      "outputs": [],
      "source": [
        "def read_data(path):\n",
        "    return (\n",
        "        pl.read_csv(path)\n",
        "        .with_columns(\n",
        "            pl.col('age_approx').cast(pl.String).replace('NA', np.nan).cast(pl.Float64),\n",
        "        )\n",
        "        .with_columns(\n",
        "            pl.col(pl.Float64).fill_nan(pl.col(pl.Float64).median()), # You may want to impute test data with train\n",
        "        )\n",
        "        .with_columns(\n",
        "            lesion_size_ratio              = pl.col('tbp_lv_minorAxisMM') / pl.col('clin_size_long_diam_mm'),\n",
        "            lesion_shape_index             = pl.col('tbp_lv_areaMM2') / (pl.col('tbp_lv_perimeterMM') ** 2),\n",
        "            hue_contrast                   = (pl.col('tbp_lv_H') - pl.col('tbp_lv_Hext')).abs(),\n",
        "            luminance_contrast             = (pl.col('tbp_lv_L') - pl.col('tbp_lv_Lext')).abs(),\n",
        "            lesion_color_difference        = (pl.col('tbp_lv_deltaA') ** 2 + pl.col('tbp_lv_deltaB') ** 2 + pl.col('tbp_lv_deltaL') ** 2).sqrt(),\n",
        "            border_complexity              = pl.col('tbp_lv_norm_border') + pl.col('tbp_lv_symm_2axis'),\n",
        "            color_uniformity               = pl.col('tbp_lv_color_std_mean') / (pl.col('tbp_lv_radial_color_std_max') + err),\n",
        "        )\n",
        "        .with_columns(\n",
        "            position_distance_3d           = (pl.col('tbp_lv_x') ** 2 + pl.col('tbp_lv_y') ** 2 + pl.col('tbp_lv_z') ** 2).sqrt(),\n",
        "            perimeter_to_area_ratio        = pl.col('tbp_lv_perimeterMM') / pl.col('tbp_lv_areaMM2'),\n",
        "            area_to_perimeter_ratio        = pl.col('tbp_lv_areaMM2') / pl.col('tbp_lv_perimeterMM'),\n",
        "            lesion_visibility_score        = pl.col('tbp_lv_deltaLBnorm') + pl.col('tbp_lv_norm_color'),\n",
        "            combined_anatomical_site       = pl.col('anatom_site_general') + '_' + pl.col('tbp_lv_location'),\n",
        "            symmetry_border_consistency    = pl.col('tbp_lv_symm_2axis') * pl.col('tbp_lv_norm_border'),\n",
        "            consistency_symmetry_border    = pl.col('tbp_lv_symm_2axis') * pl.col('tbp_lv_norm_border') / (pl.col('tbp_lv_symm_2axis') + pl.col('tbp_lv_norm_border')),\n",
        "        )\n",
        "        .with_columns(\n",
        "            color_consistency              = pl.col('tbp_lv_stdL') / pl.col('tbp_lv_Lext'),\n",
        "            consistency_color              = pl.col('tbp_lv_stdL') * pl.col('tbp_lv_Lext') / (pl.col('tbp_lv_stdL') + pl.col('tbp_lv_Lext')),\n",
        "            size_age_interaction           = pl.col('clin_size_long_diam_mm') * pl.col('age_approx'),\n",
        "            hue_color_std_interaction      = pl.col('tbp_lv_H') * pl.col('tbp_lv_color_std_mean'),\n",
        "            lesion_severity_index          = (pl.col('tbp_lv_norm_border') + pl.col('tbp_lv_norm_color') + pl.col('tbp_lv_eccentricity')) / 3,\n",
        "            shape_complexity_index         = pl.col('border_complexity') + pl.col('lesion_shape_index'),\n",
        "            color_contrast_index           = pl.col('tbp_lv_deltaA') + pl.col('tbp_lv_deltaB') + pl.col('tbp_lv_deltaL') + pl.col('tbp_lv_deltaLBnorm'),\n",
        "        )\n",
        "        .with_columns(\n",
        "            log_lesion_area                = (pl.col('tbp_lv_areaMM2') + 1).log(),\n",
        "            normalized_lesion_size         = pl.col('clin_size_long_diam_mm') / pl.col('age_approx'),\n",
        "            mean_hue_difference            = (pl.col('tbp_lv_H') + pl.col('tbp_lv_Hext')) / 2,\n",
        "            std_dev_contrast               = ((pl.col('tbp_lv_deltaA') ** 2 + pl.col('tbp_lv_deltaB') ** 2 + pl.col('tbp_lv_deltaL') ** 2) / 3).sqrt(),\n",
        "            color_shape_composite_index    = (pl.col('tbp_lv_color_std_mean') + pl.col('tbp_lv_area_perim_ratio') + pl.col('tbp_lv_symm_2axis')) / 3,\n",
        "            lesion_orientation_3d          = pl.arctan2(pl.col('tbp_lv_y'), pl.col('tbp_lv_x')),\n",
        "            overall_color_difference       = (pl.col('tbp_lv_deltaA') + pl.col('tbp_lv_deltaB') + pl.col('tbp_lv_deltaL')) / 3,\n",
        "        )\n",
        "        .with_columns(\n",
        "            symmetry_perimeter_interaction = pl.col('tbp_lv_symm_2axis') * pl.col('tbp_lv_perimeterMM'),\n",
        "            comprehensive_lesion_index     = (pl.col('tbp_lv_area_perim_ratio') + pl.col('tbp_lv_eccentricity') + pl.col('tbp_lv_norm_color') + pl.col('tbp_lv_symm_2axis')) / 4,\n",
        "            color_variance_ratio           = pl.col('tbp_lv_color_std_mean') / pl.col('tbp_lv_stdLExt'),\n",
        "            border_color_interaction       = pl.col('tbp_lv_norm_border') * pl.col('tbp_lv_norm_color'),\n",
        "            border_color_interaction_2     = pl.col('tbp_lv_norm_border') * pl.col('tbp_lv_norm_color') / (pl.col('tbp_lv_norm_border') + pl.col('tbp_lv_norm_color')),\n",
        "            size_color_contrast_ratio      = pl.col('clin_size_long_diam_mm') / pl.col('tbp_lv_deltaLBnorm'),\n",
        "            age_normalized_nevi_confidence = pl.col('tbp_lv_nevi_confidence') / pl.col('age_approx'),\n",
        "            age_normalized_nevi_confidence_2 = (pl.col('clin_size_long_diam_mm')**2 + pl.col('age_approx')**2).sqrt(),\n",
        "            color_asymmetry_index          = pl.col('tbp_lv_radial_color_std_max') * pl.col('tbp_lv_symm_2axis'),\n",
        "        )\n",
        "        .with_columns(\n",
        "            volume_approximation_3d        = pl.col('tbp_lv_areaMM2') * (pl.col('tbp_lv_x')**2 + pl.col('tbp_lv_y')**2 + pl.col('tbp_lv_z')**2).sqrt(),\n",
        "            color_range                    = (pl.col('tbp_lv_L') - pl.col('tbp_lv_Lext')).abs() + (pl.col('tbp_lv_A') - pl.col('tbp_lv_Aext')).abs() + (pl.col('tbp_lv_B') - pl.col('tbp_lv_Bext')).abs(),\n",
        "            shape_color_consistency        = pl.col('tbp_lv_eccentricity') * pl.col('tbp_lv_color_std_mean'),\n",
        "            border_length_ratio            = pl.col('tbp_lv_perimeterMM') / (2 * np.pi * (pl.col('tbp_lv_areaMM2') / np.pi).sqrt()),\n",
        "            age_size_symmetry_index        = pl.col('age_approx') * pl.col('clin_size_long_diam_mm') * pl.col('tbp_lv_symm_2axis'),\n",
        "            index_age_size_symmetry        = pl.col('age_approx') * pl.col('tbp_lv_areaMM2') * pl.col('tbp_lv_symm_2axis'),\n",
        "        )\n",
        "        .with_columns(\n",
        "            ((pl.col(col) - pl.col(col).mean().over('patient_id')) / (pl.col(col).std().over('patient_id') + err)).alias(f'{col}_patient_norm') for col in (num_cols + new_num_cols)\n",
        "        )\n",
        "        .with_columns(\n",
        "            count_per_patient = pl.col('isic_id').count().over('patient_id'),\n",
        "        )\n",
        "        .with_columns(\n",
        "            pl.col(cat_cols).cast(pl.Categorical),\n",
        "        )\n",
        "        .to_pandas()\n",
        "        .set_index(id_col)\n",
        "    )"
      ]
    },
    {
      "cell_type": "code",
      "execution_count": null,
      "id": "96c46bb9",
      "metadata": {
        "execution": {
          "iopub.execute_input": "2024-09-24T16:44:05.925961Z",
          "iopub.status.busy": "2024-09-24T16:44:05.925699Z",
          "iopub.status.idle": "2024-09-24T16:44:05.935484Z",
          "shell.execute_reply": "2024-09-24T16:44:05.934716Z"
        },
        "papermill": {
          "duration": 0.021487,
          "end_time": "2024-09-24T16:44:05.937387",
          "exception": false,
          "start_time": "2024-09-24T16:44:05.915900",
          "status": "completed"
        },
        "tags": [],
        "id": "96c46bb9"
      },
      "outputs": [],
      "source": [
        "def preprocess(df_train, df_test):\n",
        "    global cat_cols\n",
        "\n",
        "    encoder = OneHotEncoder(sparse_output=False, dtype=np.int32, handle_unknown='ignore')\n",
        "    encoder.fit(df_train[cat_cols])\n",
        "\n",
        "    new_cat_cols = [f'onehot_{i}' for i in range(len(encoder.get_feature_names_out()))]\n",
        "\n",
        "    df_train[new_cat_cols] = encoder.transform(df_train[cat_cols])\n",
        "    df_train[new_cat_cols] = df_train[new_cat_cols].astype('category')\n",
        "\n",
        "    df_test[new_cat_cols] = encoder.transform(df_test[cat_cols])\n",
        "    df_test[new_cat_cols] = df_test[new_cat_cols].astype('category')\n",
        "\n",
        "    # effnetv1b0\n",
        "    df_eff = pd.read_csv(\"/kaggle/input/isic-inference-effnetv1b0-for-training-data/train_effnetv1b0.csv\")\n",
        "    df_train = df_train.reset_index(drop=True)\n",
        "    df_eff = df_eff.reset_index(drop=True)\n",
        "    df_train[\"target_effnetv1b0\"] = df_eff[\"target_effnetv1b0\"]\n",
        "    df_eff = pd.read_csv(\"submission_effnetv1b0.csv\")\n",
        "    df_test = df_test.reset_index(drop=True)\n",
        "    df_eff = df_eff.reset_index(drop=True)\n",
        "    df_test[\"target_effnetv1b0\"] = df_eff[\"target\"]\n",
        "\n",
        "    # target 3\n",
        "    df_image_3 = pd.read_csv(\"/kaggle/input/isic-2024-pl-submission-script-and-preds/train_preds.csv\")\n",
        "    df_train = df_train.reset_index(drop=True)\n",
        "    df_image_3 = df_image_3.reset_index(drop=True)\n",
        "    df_train[\"target_3\"] = df_image_3[\"pred\"]\n",
        "    df_3 = pd.read_csv(\"submission_image3.csv\")\n",
        "    df_test = df_test.reset_index(drop=True)\n",
        "    df_image_3 = df_image_3.reset_index(drop=True)\n",
        "    df_test[\"target_3\"] = df_3[\"target\"]\n",
        "\n",
        "    for col in cat_cols:\n",
        "        feature_cols.remove(col)\n",
        "\n",
        "    feature_cols.extend(new_cat_cols)\n",
        "    cat_cols = new_cat_cols\n",
        "\n",
        "    return df_train, df_test"
      ]
    },
    {
      "cell_type": "code",
      "execution_count": null,
      "id": "f34b4848",
      "metadata": {
        "execution": {
          "iopub.execute_input": "2024-09-24T16:44:05.956028Z",
          "iopub.status.busy": "2024-09-24T16:44:05.955790Z",
          "iopub.status.idle": "2024-09-24T16:44:05.961654Z",
          "shell.execute_reply": "2024-09-24T16:44:05.960800Z"
        },
        "papermill": {
          "duration": 0.017221,
          "end_time": "2024-09-24T16:44:05.963522",
          "exception": false,
          "start_time": "2024-09-24T16:44:05.946301",
          "status": "completed"
        },
        "tags": [],
        "id": "f34b4848"
      },
      "outputs": [],
      "source": [
        "def custom_metric(estimator, X, y_true):\n",
        "    y_hat = estimator.predict_proba(X)[:, 1]\n",
        "    min_tpr = 0.80\n",
        "    max_fpr = abs(1 - min_tpr)\n",
        "\n",
        "    v_gt = abs(y_true - 1)\n",
        "    v_pred = np.array([1.0 - x for x in y_hat])\n",
        "\n",
        "    partial_auc_scaled = roc_auc_score(v_gt, v_pred, max_fpr=max_fpr)\n",
        "    partial_auc = 0.5 * max_fpr**2 + (max_fpr - 0.5 * max_fpr**2) / (1.0 - 0.5) * (partial_auc_scaled - 0.5)\n",
        "\n",
        "    return partial_auc"
      ]
    },
    {
      "cell_type": "code",
      "execution_count": null,
      "id": "59fbf2eb",
      "metadata": {
        "execution": {
          "iopub.execute_input": "2024-09-24T16:44:05.982194Z",
          "iopub.status.busy": "2024-09-24T16:44:05.981944Z",
          "iopub.status.idle": "2024-09-24T16:44:20.859972Z",
          "shell.execute_reply": "2024-09-24T16:44:20.859213Z"
        },
        "papermill": {
          "duration": 14.889934,
          "end_time": "2024-09-24T16:44:20.862388",
          "exception": false,
          "start_time": "2024-09-24T16:44:05.972454",
          "status": "completed"
        },
        "tags": [],
        "id": "59fbf2eb",
        "outputId": "7b90edc7-f5da-4666-876b-d0790a1e4937"
      },
      "outputs": [
        {
          "name": "stderr",
          "output_type": "stream",
          "text": [
            "/tmp/ipykernel_25/1239289818.py:16: DtypeWarning: Columns (51,52) have mixed types. Specify dtype option on import or set low_memory=False.\n",
            "  df_eff = pd.read_csv(\"/kaggle/input/isic-inference-effnetv1b0-for-training-data/train_effnetv1b0.csv\")\n"
          ]
        }
      ],
      "source": [
        "df_train = read_data(train_path)\n",
        "df_test = read_data(test_path)\n",
        "df_subm = pd.read_csv(subm_path, index_col=id_col)\n",
        "\n",
        "df_train, df_test = preprocess(df_train, df_test)"
      ]
    },
    {
      "cell_type": "code",
      "execution_count": null,
      "id": "9cb506a9",
      "metadata": {
        "execution": {
          "iopub.execute_input": "2024-09-24T16:44:20.900497Z",
          "iopub.status.busy": "2024-09-24T16:44:20.899934Z",
          "iopub.status.idle": "2024-09-24T16:44:21.123327Z",
          "shell.execute_reply": "2024-09-24T16:44:21.122303Z"
        },
        "papermill": {
          "duration": 0.235888,
          "end_time": "2024-09-24T16:44:21.125782",
          "exception": false,
          "start_time": "2024-09-24T16:44:20.889894",
          "status": "completed"
        },
        "tags": [],
        "id": "9cb506a9"
      },
      "outputs": [],
      "source": [
        "least_important_features = ['onehot_32', 'onehot_6', 'onehot_33', 'onehot_30', 'onehot_26', 'onehot_22', 'onehot_36', 'onehot_4']\n",
        "df_train.drop(columns =least_important_features,inplace = True)\n",
        "for feature in least_important_features:\n",
        "    cat_cols.remove(feature)\n",
        "    feature_cols.remove(feature)"
      ]
    },
    {
      "cell_type": "markdown",
      "id": "d1585974",
      "metadata": {
        "papermill": {
          "duration": 0.008882,
          "end_time": "2024-09-24T16:44:21.144355",
          "exception": false,
          "start_time": "2024-09-24T16:44:21.135473",
          "status": "completed"
        },
        "tags": [],
        "id": "d1585974"
      },
      "source": [
        "## MODEL INITIALIZATION"
      ]
    },
    {
      "cell_type": "code",
      "execution_count": null,
      "id": "ef963695",
      "metadata": {
        "execution": {
          "iopub.execute_input": "2024-09-24T16:44:21.163620Z",
          "iopub.status.busy": "2024-09-24T16:44:21.163316Z",
          "iopub.status.idle": "2024-09-24T16:44:21.168813Z",
          "shell.execute_reply": "2024-09-24T16:44:21.167950Z"
        },
        "papermill": {
          "duration": 0.017207,
          "end_time": "2024-09-24T16:44:21.170608",
          "exception": false,
          "start_time": "2024-09-24T16:44:21.153401",
          "status": "completed"
        },
        "tags": [],
        "id": "ef963695"
      },
      "outputs": [],
      "source": [
        "feature_cols_without_image_cols = copy.copy(feature_cols)\n",
        "feature_cols += image_cols\n",
        "\n",
        "class SelectColumns(BaseEstimator, TransformerMixin):\n",
        "    def __init__(self, columns):\n",
        "        self.columns = columns\n",
        "    def fit(self, X, y=None):\n",
        "        return self\n",
        "    def transform(self, X):\n",
        "        return X[self.columns]"
      ]
    },
    {
      "cell_type": "code",
      "execution_count": null,
      "id": "a87f056e",
      "metadata": {
        "execution": {
          "iopub.execute_input": "2024-09-24T16:44:21.189746Z",
          "iopub.status.busy": "2024-09-24T16:44:21.189474Z",
          "iopub.status.idle": "2024-09-24T16:44:21.196316Z",
          "shell.execute_reply": "2024-09-24T16:44:21.195510Z"
        },
        "papermill": {
          "duration": 0.018639,
          "end_time": "2024-09-24T16:44:21.198239",
          "exception": false,
          "start_time": "2024-09-24T16:44:21.179600",
          "status": "completed"
        },
        "tags": [],
        "id": "a87f056e"
      },
      "outputs": [],
      "source": [
        "lgb_params = {\n",
        "    'objective':        'binary',\n",
        "    'verbosity':        -1,\n",
        "    'n_iter':           200,\n",
        "    'boosting_type':    'gbdt',\n",
        "    'random_state':     seed,\n",
        "    'lambda_l1':        0.08758718919397321,\n",
        "    'lambda_l2':        0.0039689175176025465,\n",
        "    'learning_rate':    0.03231007103195577,\n",
        "    'max_depth':        4,\n",
        "    'num_leaves':       103,\n",
        "    'colsample_bytree': 0.8329551585827726,\n",
        "    'colsample_bynode': 0.4025961355653304,\n",
        "    'bagging_fraction': 0.7738954452473223,\n",
        "    'bagging_freq':     4,\n",
        "    'min_data_in_leaf': 85,\n",
        "    'scale_pos_weight': 2.7984184778875543,\n",
        "}\n",
        "\n",
        "\n",
        "sampling_ratio = 0.01\n",
        "seed =42\n",
        "\n",
        "lgb_model = Pipeline([\n",
        "    ('sampler_1', RandomOverSampler(sampling_strategy= 0.003 , random_state=seed)),\n",
        "    ('sampler_2', RandomUnderSampler(sampling_strategy=sampling_ratio, random_state=seed)),\n",
        "    ('filter', SelectColumns(feature_cols_without_image_cols)),\n",
        "    ('classifier', lgb.LGBMClassifier(**lgb_params)),\n",
        "])"
      ]
    },
    {
      "cell_type": "code",
      "execution_count": null,
      "id": "ed9d2f04",
      "metadata": {
        "execution": {
          "iopub.execute_input": "2024-09-24T16:44:21.217100Z",
          "iopub.status.busy": "2024-09-24T16:44:21.216839Z",
          "iopub.status.idle": "2024-09-24T16:44:21.224916Z",
          "shell.execute_reply": "2024-09-24T16:44:21.224092Z"
        },
        "papermill": {
          "duration": 0.019559,
          "end_time": "2024-09-24T16:44:21.226802",
          "exception": false,
          "start_time": "2024-09-24T16:44:21.207243",
          "status": "completed"
        },
        "tags": [],
        "id": "ed9d2f04"
      },
      "outputs": [],
      "source": [
        "cb_params = {\n",
        "    'loss_function':     'Logloss',\n",
        "    'iterations':        250,\n",
        "    'verbose':           False,\n",
        "    'random_state':      seed,\n",
        "    'max_depth':         7,\n",
        "    'learning_rate':     0.06936242010150652,\n",
        "    'scale_pos_weight':  2.6149345838209532,\n",
        "    'l2_leaf_reg':       6.216113851699493,\n",
        "    'subsample':         0.6249261779711819,\n",
        "    'min_data_in_leaf':  24,\n",
        "    'cat_features':      cat_cols,\n",
        "}\n",
        "cb_model = Pipeline([\n",
        "    ('sampler_1', RandomOverSampler(sampling_strategy= 0.003 , random_state=seed)),\n",
        "    ('sampler_2', RandomUnderSampler(sampling_strategy=sampling_ratio, random_state=seed)),\n",
        "    ('classifier', cb.CatBoostClassifier(**cb_params)),\n",
        "])"
      ]
    },
    {
      "cell_type": "code",
      "execution_count": null,
      "id": "3a519f91",
      "metadata": {
        "execution": {
          "iopub.execute_input": "2024-09-24T16:44:21.245727Z",
          "iopub.status.busy": "2024-09-24T16:44:21.245488Z",
          "iopub.status.idle": "2024-09-24T16:44:21.251474Z",
          "shell.execute_reply": "2024-09-24T16:44:21.250608Z"
        },
        "papermill": {
          "duration": 0.017447,
          "end_time": "2024-09-24T16:44:21.253238",
          "exception": false,
          "start_time": "2024-09-24T16:44:21.235791",
          "status": "completed"
        },
        "tags": [],
        "id": "3a519f91"
      },
      "outputs": [],
      "source": [
        "xgb_params = {\n",
        "    'enable_categorical': True,\n",
        "    'tree_method':        'hist',\n",
        "    'random_state':       seed,\n",
        "    'learning_rate':      0.08501257473292347,\n",
        "    'lambda':             8.879624125465703,\n",
        "    'alpha':              0.6779926606782505,\n",
        "    'max_depth':          6,\n",
        "    'subsample':          0.6012681388711075,\n",
        "    'colsample_bytree':   0.8437772277074493,\n",
        "    'colsample_bylevel':  0.5476090898823716,\n",
        "    'colsample_bynode':   0.9928601203635129,\n",
        "    'scale_pos_weight':   3.29440313334688,\n",
        "}\n",
        "\n",
        "xgb_model = Pipeline([\n",
        "    ('sampler_1', RandomOverSampler(sampling_strategy= 0.003 , random_state=seed)),\n",
        "    ('sampler_2', RandomUnderSampler(sampling_strategy=sampling_ratio, random_state=seed)),\n",
        "    ('classifier', xgb.XGBClassifier(**xgb_params)),\n",
        "])"
      ]
    },
    {
      "cell_type": "code",
      "execution_count": null,
      "id": "9535fe25",
      "metadata": {
        "execution": {
          "iopub.execute_input": "2024-09-24T16:44:21.272945Z",
          "iopub.status.busy": "2024-09-24T16:44:21.272106Z",
          "iopub.status.idle": "2024-09-24T16:44:21.276386Z",
          "shell.execute_reply": "2024-09-24T16:44:21.275643Z"
        },
        "papermill": {
          "duration": 0.01574,
          "end_time": "2024-09-24T16:44:21.278189",
          "exception": false,
          "start_time": "2024-09-24T16:44:21.262449",
          "status": "completed"
        },
        "tags": [],
        "id": "9535fe25"
      },
      "outputs": [],
      "source": [
        "estimator = VotingClassifier([\n",
        "    ('lgb', lgb_model), ('cb', cb_model), ('xgb', xgb_model),\n",
        "], voting='soft') # ,weights=[0.30,0.47,0.28])"
      ]
    },
    {
      "cell_type": "markdown",
      "id": "9a824bc8",
      "metadata": {
        "papermill": {
          "duration": 0.008968,
          "end_time": "2024-09-24T16:44:21.296104",
          "exception": false,
          "start_time": "2024-09-24T16:44:21.287136",
          "status": "completed"
        },
        "tags": [],
        "id": "9a824bc8"
      },
      "source": [
        "## CROSS VALIDATION"
      ]
    },
    {
      "cell_type": "code",
      "execution_count": null,
      "id": "2e741854",
      "metadata": {
        "execution": {
          "iopub.execute_input": "2024-09-24T16:44:21.315118Z",
          "iopub.status.busy": "2024-09-24T16:44:21.314860Z",
          "iopub.status.idle": "2024-09-24T16:47:55.155676Z",
          "shell.execute_reply": "2024-09-24T16:47:55.154691Z"
        },
        "papermill": {
          "duration": 213.862372,
          "end_time": "2024-09-24T16:47:55.167490",
          "exception": false,
          "start_time": "2024-09-24T16:44:21.305118",
          "status": "completed"
        },
        "tags": [],
        "id": "2e741854",
        "outputId": "bb0a3f9f-1114-44fe-ff2a-382edb06463c"
      },
      "outputs": [
        {
          "name": "stderr",
          "output_type": "stream",
          "text": [
            "/opt/conda/lib/python3.10/site-packages/lightgbm/engine.py:172: UserWarning: Found `n_iter` in params. Will use it instead of argument\n",
            "  _log_warning(f\"Found `{alias}` in params. Will use it instead of argument\")\n",
            "/opt/conda/lib/python3.10/site-packages/lightgbm/engine.py:172: UserWarning: Found `n_iter` in params. Will use it instead of argument\n",
            "  _log_warning(f\"Found `{alias}` in params. Will use it instead of argument\")\n",
            "/opt/conda/lib/python3.10/site-packages/lightgbm/engine.py:172: UserWarning: Found `n_iter` in params. Will use it instead of argument\n",
            "  _log_warning(f\"Found `{alias}` in params. Will use it instead of argument\")\n",
            "/opt/conda/lib/python3.10/site-packages/lightgbm/engine.py:172: UserWarning: Found `n_iter` in params. Will use it instead of argument\n",
            "  _log_warning(f\"Found `{alias}` in params. Will use it instead of argument\")\n",
            "/opt/conda/lib/python3.10/site-packages/lightgbm/engine.py:172: UserWarning: Found `n_iter` in params. Will use it instead of argument\n",
            "  _log_warning(f\"Found `{alias}` in params. Will use it instead of argument\")\n"
          ]
        },
        {
          "data": {
            "text/plain": [
              "(0.18602268276963513,\n",
              " array([0.17929879, 0.18686815, 0.19419583, 0.18136177, 0.18838888]))"
            ]
          },
          "execution_count": 15,
          "metadata": {},
          "output_type": "execute_result"
        }
      ],
      "source": [
        "X = df_train[feature_cols]\n",
        "y = df_train[target_col]\n",
        "groups = df_train[group_col]\n",
        "cv = StratifiedGroupKFold(5, shuffle=True, random_state=seed)\n",
        "\n",
        "val_score = cross_val_score(\n",
        "    estimator=estimator,\n",
        "    X=X, y=y,\n",
        "    cv=cv,\n",
        "    groups=groups,\n",
        "    scoring=custom_metric,\n",
        ")\n",
        "\n",
        "np.mean(val_score), val_score"
      ]
    },
    {
      "cell_type": "code",
      "execution_count": null,
      "id": "19cb69da",
      "metadata": {
        "execution": {
          "iopub.execute_input": "2024-09-24T16:47:55.188598Z",
          "iopub.status.busy": "2024-09-24T16:47:55.188227Z",
          "iopub.status.idle": "2024-09-24T16:48:45.396212Z",
          "shell.execute_reply": "2024-09-24T16:48:45.395320Z"
        },
        "papermill": {
          "duration": 50.231569,
          "end_time": "2024-09-24T16:48:45.408945",
          "exception": false,
          "start_time": "2024-09-24T16:47:55.177376",
          "status": "completed"
        },
        "tags": [],
        "id": "19cb69da",
        "outputId": "2d967827-6e33-4b84-b7bf-f0c6b7866c94"
      },
      "outputs": [
        {
          "name": "stderr",
          "output_type": "stream",
          "text": [
            "/opt/conda/lib/python3.10/site-packages/lightgbm/engine.py:172: UserWarning: Found `n_iter` in params. Will use it instead of argument\n",
            "  _log_warning(f\"Found `{alias}` in params. Will use it instead of argument\")\n"
          ]
        },
        {
          "data": {
            "text/html": [
              "<style>#sk-container-id-1 {color: black;background-color: white;}#sk-container-id-1 pre{padding: 0;}#sk-container-id-1 div.sk-toggleable {background-color: white;}#sk-container-id-1 label.sk-toggleable__label {cursor: pointer;display: block;width: 100%;margin-bottom: 0;padding: 0.3em;box-sizing: border-box;text-align: center;}#sk-container-id-1 label.sk-toggleable__label-arrow:before {content: \"▸\";float: left;margin-right: 0.25em;color: #696969;}#sk-container-id-1 label.sk-toggleable__label-arrow:hover:before {color: black;}#sk-container-id-1 div.sk-estimator:hover label.sk-toggleable__label-arrow:before {color: black;}#sk-container-id-1 div.sk-toggleable__content {max-height: 0;max-width: 0;overflow: hidden;text-align: left;background-color: #f0f8ff;}#sk-container-id-1 div.sk-toggleable__content pre {margin: 0.2em;color: black;border-radius: 0.25em;background-color: #f0f8ff;}#sk-container-id-1 input.sk-toggleable__control:checked~div.sk-toggleable__content {max-height: 200px;max-width: 100%;overflow: auto;}#sk-container-id-1 input.sk-toggleable__control:checked~label.sk-toggleable__label-arrow:before {content: \"▾\";}#sk-container-id-1 div.sk-estimator input.sk-toggleable__control:checked~label.sk-toggleable__label {background-color: #d4ebff;}#sk-container-id-1 div.sk-label input.sk-toggleable__control:checked~label.sk-toggleable__label {background-color: #d4ebff;}#sk-container-id-1 input.sk-hidden--visually {border: 0;clip: rect(1px 1px 1px 1px);clip: rect(1px, 1px, 1px, 1px);height: 1px;margin: -1px;overflow: hidden;padding: 0;position: absolute;width: 1px;}#sk-container-id-1 div.sk-estimator {font-family: monospace;background-color: #f0f8ff;border: 1px dotted black;border-radius: 0.25em;box-sizing: border-box;margin-bottom: 0.5em;}#sk-container-id-1 div.sk-estimator:hover {background-color: #d4ebff;}#sk-container-id-1 div.sk-parallel-item::after {content: \"\";width: 100%;border-bottom: 1px solid gray;flex-grow: 1;}#sk-container-id-1 div.sk-label:hover label.sk-toggleable__label {background-color: #d4ebff;}#sk-container-id-1 div.sk-serial::before {content: \"\";position: absolute;border-left: 1px solid gray;box-sizing: border-box;top: 0;bottom: 0;left: 50%;z-index: 0;}#sk-container-id-1 div.sk-serial {display: flex;flex-direction: column;align-items: center;background-color: white;padding-right: 0.2em;padding-left: 0.2em;position: relative;}#sk-container-id-1 div.sk-item {position: relative;z-index: 1;}#sk-container-id-1 div.sk-parallel {display: flex;align-items: stretch;justify-content: center;background-color: white;position: relative;}#sk-container-id-1 div.sk-item::before, #sk-container-id-1 div.sk-parallel-item::before {content: \"\";position: absolute;border-left: 1px solid gray;box-sizing: border-box;top: 0;bottom: 0;left: 50%;z-index: -1;}#sk-container-id-1 div.sk-parallel-item {display: flex;flex-direction: column;z-index: 1;position: relative;background-color: white;}#sk-container-id-1 div.sk-parallel-item:first-child::after {align-self: flex-end;width: 50%;}#sk-container-id-1 div.sk-parallel-item:last-child::after {align-self: flex-start;width: 50%;}#sk-container-id-1 div.sk-parallel-item:only-child::after {width: 0;}#sk-container-id-1 div.sk-dashed-wrapped {border: 1px dashed gray;margin: 0 0.4em 0.5em 0.4em;box-sizing: border-box;padding-bottom: 0.4em;background-color: white;}#sk-container-id-1 div.sk-label label {font-family: monospace;font-weight: bold;display: inline-block;line-height: 1.2em;}#sk-container-id-1 div.sk-label-container {text-align: center;}#sk-container-id-1 div.sk-container {/* jupyter's `normalize.less` sets `[hidden] { display: none; }` but bootstrap.min.css set `[hidden] { display: none !important; }` so we also need the `!important` here to be able to override the default hidden behavior on the sphinx rendered scikit-learn.org. See: https://github.com/scikit-learn/scikit-learn/issues/21755 */display: inline-block !important;position: relative;}#sk-container-id-1 div.sk-text-repr-fallback {display: none;}</style><div id=\"sk-container-id-1\" class=\"sk-top-container\"><div class=\"sk-text-repr-fallback\"><pre>VotingClassifier(estimators=[(&#x27;lgb&#x27;,\n",
              "                              Pipeline(steps=[(&#x27;sampler_1&#x27;,\n",
              "                                               RandomOverSampler(random_state=42,\n",
              "                                                                 sampling_strategy=0.003)),\n",
              "                                              (&#x27;sampler_2&#x27;,\n",
              "                                               RandomUnderSampler(random_state=42,\n",
              "                                                                  sampling_strategy=0.01)),\n",
              "                                              (&#x27;filter&#x27;,\n",
              "                                               SelectColumns(columns=[&#x27;age_approx&#x27;,\n",
              "                                                                      &#x27;clin_size_long_diam_mm&#x27;,\n",
              "                                                                      &#x27;tbp_lv_A&#x27;,\n",
              "                                                                      &#x27;tbp_lv_Aext&#x27;,\n",
              "                                                                      &#x27;tbp_lv_B&#x27;,\n",
              "                                                                      &#x27;tbp_lv_Bext&#x27;,\n",
              "                                                                      &#x27;tbp_lv_C&#x27;,\n",
              "                                                                      &#x27;tbp_lv_Cext&#x27;,\n",
              "                                                                      &#x27;tbp_l...\n",
              "                                                             importance_type=None,\n",
              "                                                             interaction_constraints=None,\n",
              "                                                             lambda=8.879624125465703,\n",
              "                                                             learning_rate=0.08501257473292347,\n",
              "                                                             max_bin=None,\n",
              "                                                             max_cat_threshold=None,\n",
              "                                                             max_cat_to_onehot=None,\n",
              "                                                             max_delta_step=None,\n",
              "                                                             max_depth=6,\n",
              "                                                             max_leaves=None,\n",
              "                                                             min_child_weight=None,\n",
              "                                                             missing=nan,\n",
              "                                                             monotone_constraints=None,\n",
              "                                                             multi_strategy=None,\n",
              "                                                             n_estimators=None,\n",
              "                                                             n_jobs=None, ...))]))],\n",
              "                 voting=&#x27;soft&#x27;)</pre><b>In a Jupyter environment, please rerun this cell to show the HTML representation or trust the notebook. <br />On GitHub, the HTML representation is unable to render, please try loading this page with nbviewer.org.</b></div><div class=\"sk-container\" hidden><div class=\"sk-item sk-dashed-wrapped\"><div class=\"sk-label-container\"><div class=\"sk-label sk-toggleable\"><input class=\"sk-toggleable__control sk-hidden--visually\" id=\"sk-estimator-id-1\" type=\"checkbox\" ><label for=\"sk-estimator-id-1\" class=\"sk-toggleable__label sk-toggleable__label-arrow\">VotingClassifier</label><div class=\"sk-toggleable__content\"><pre>VotingClassifier(estimators=[(&#x27;lgb&#x27;,\n",
              "                              Pipeline(steps=[(&#x27;sampler_1&#x27;,\n",
              "                                               RandomOverSampler(random_state=42,\n",
              "                                                                 sampling_strategy=0.003)),\n",
              "                                              (&#x27;sampler_2&#x27;,\n",
              "                                               RandomUnderSampler(random_state=42,\n",
              "                                                                  sampling_strategy=0.01)),\n",
              "                                              (&#x27;filter&#x27;,\n",
              "                                               SelectColumns(columns=[&#x27;age_approx&#x27;,\n",
              "                                                                      &#x27;clin_size_long_diam_mm&#x27;,\n",
              "                                                                      &#x27;tbp_lv_A&#x27;,\n",
              "                                                                      &#x27;tbp_lv_Aext&#x27;,\n",
              "                                                                      &#x27;tbp_lv_B&#x27;,\n",
              "                                                                      &#x27;tbp_lv_Bext&#x27;,\n",
              "                                                                      &#x27;tbp_lv_C&#x27;,\n",
              "                                                                      &#x27;tbp_lv_Cext&#x27;,\n",
              "                                                                      &#x27;tbp_l...\n",
              "                                                             importance_type=None,\n",
              "                                                             interaction_constraints=None,\n",
              "                                                             lambda=8.879624125465703,\n",
              "                                                             learning_rate=0.08501257473292347,\n",
              "                                                             max_bin=None,\n",
              "                                                             max_cat_threshold=None,\n",
              "                                                             max_cat_to_onehot=None,\n",
              "                                                             max_delta_step=None,\n",
              "                                                             max_depth=6,\n",
              "                                                             max_leaves=None,\n",
              "                                                             min_child_weight=None,\n",
              "                                                             missing=nan,\n",
              "                                                             monotone_constraints=None,\n",
              "                                                             multi_strategy=None,\n",
              "                                                             n_estimators=None,\n",
              "                                                             n_jobs=None, ...))]))],\n",
              "                 voting=&#x27;soft&#x27;)</pre></div></div></div><div class=\"sk-parallel\"><div class=\"sk-parallel-item\"><div class=\"sk-item\"><div class=\"sk-label-container\"><div class=\"sk-label sk-toggleable\"><label>lgb</label></div></div><div class=\"sk-serial\"><div class=\"sk-item\"><div class=\"sk-serial\"><div class=\"sk-item\"><div class=\"sk-estimator sk-toggleable\"><input class=\"sk-toggleable__control sk-hidden--visually\" id=\"sk-estimator-id-2\" type=\"checkbox\" ><label for=\"sk-estimator-id-2\" class=\"sk-toggleable__label sk-toggleable__label-arrow\">RandomOverSampler</label><div class=\"sk-toggleable__content\"><pre>RandomOverSampler(random_state=42, sampling_strategy=0.003)</pre></div></div></div><div class=\"sk-item\"><div class=\"sk-estimator sk-toggleable\"><input class=\"sk-toggleable__control sk-hidden--visually\" id=\"sk-estimator-id-3\" type=\"checkbox\" ><label for=\"sk-estimator-id-3\" class=\"sk-toggleable__label sk-toggleable__label-arrow\">RandomUnderSampler</label><div class=\"sk-toggleable__content\"><pre>RandomUnderSampler(random_state=42, sampling_strategy=0.01)</pre></div></div></div><div class=\"sk-item\"><div class=\"sk-estimator sk-toggleable\"><input class=\"sk-toggleable__control sk-hidden--visually\" id=\"sk-estimator-id-4\" type=\"checkbox\" ><label for=\"sk-estimator-id-4\" class=\"sk-toggleable__label sk-toggleable__label-arrow\">SelectColumns</label><div class=\"sk-toggleable__content\"><pre>SelectColumns(columns=[&#x27;age_approx&#x27;, &#x27;clin_size_long_diam_mm&#x27;, &#x27;tbp_lv_A&#x27;,\n",
              "                       &#x27;tbp_lv_Aext&#x27;, &#x27;tbp_lv_B&#x27;, &#x27;tbp_lv_Bext&#x27;, &#x27;tbp_lv_C&#x27;,\n",
              "                       &#x27;tbp_lv_Cext&#x27;, &#x27;tbp_lv_H&#x27;, &#x27;tbp_lv_Hext&#x27;, &#x27;tbp_lv_L&#x27;,\n",
              "                       &#x27;tbp_lv_Lext&#x27;, &#x27;tbp_lv_areaMM2&#x27;,\n",
              "                       &#x27;tbp_lv_area_perim_ratio&#x27;, &#x27;tbp_lv_color_std_mean&#x27;,\n",
              "                       &#x27;tbp_lv_deltaA&#x27;, &#x27;tbp_lv_deltaB&#x27;, &#x27;tbp_lv_deltaL&#x27;,\n",
              "                       &#x27;tbp_lv_deltaLB&#x27;, &#x27;tbp_lv_deltaLBnorm&#x27;,\n",
              "                       &#x27;tbp_lv_eccentricity&#x27;, &#x27;tbp_lv_minorAxisMM&#x27;,\n",
              "                       &#x27;tbp_lv_nevi_confidence&#x27;, &#x27;tbp_lv_norm_border&#x27;,\n",
              "                       &#x27;tbp_lv_norm_color&#x27;, &#x27;tbp_lv_perimeterMM&#x27;,\n",
              "                       &#x27;tbp_lv_radial_color_std_max&#x27;, &#x27;tbp_lv_stdL&#x27;,\n",
              "                       &#x27;tbp_lv_stdLExt&#x27;, &#x27;tbp_lv_symm_2axis&#x27;, ...])</pre></div></div></div><div class=\"sk-item\"><div class=\"sk-estimator sk-toggleable\"><input class=\"sk-toggleable__control sk-hidden--visually\" id=\"sk-estimator-id-5\" type=\"checkbox\" ><label for=\"sk-estimator-id-5\" class=\"sk-toggleable__label sk-toggleable__label-arrow\">LGBMClassifier</label><div class=\"sk-toggleable__content\"><pre>LGBMClassifier(bagging_fraction=0.7738954452473223, bagging_freq=4,\n",
              "               colsample_bynode=0.4025961355653304,\n",
              "               colsample_bytree=0.8329551585827726,\n",
              "               lambda_l1=0.08758718919397321, lambda_l2=0.0039689175176025465,\n",
              "               learning_rate=0.03231007103195577, max_depth=4,\n",
              "               min_data_in_leaf=85, n_iter=200, num_leaves=103,\n",
              "               objective=&#x27;binary&#x27;, random_state=42,\n",
              "               scale_pos_weight=2.7984184778875543, verbosity=-1)</pre></div></div></div></div></div></div></div></div><div class=\"sk-parallel-item\"><div class=\"sk-item\"><div class=\"sk-label-container\"><div class=\"sk-label sk-toggleable\"><label>cb</label></div></div><div class=\"sk-serial\"><div class=\"sk-item\"><div class=\"sk-serial\"><div class=\"sk-item\"><div class=\"sk-estimator sk-toggleable\"><input class=\"sk-toggleable__control sk-hidden--visually\" id=\"sk-estimator-id-6\" type=\"checkbox\" ><label for=\"sk-estimator-id-6\" class=\"sk-toggleable__label sk-toggleable__label-arrow\">RandomOverSampler</label><div class=\"sk-toggleable__content\"><pre>RandomOverSampler(random_state=42, sampling_strategy=0.003)</pre></div></div></div><div class=\"sk-item\"><div class=\"sk-estimator sk-toggleable\"><input class=\"sk-toggleable__control sk-hidden--visually\" id=\"sk-estimator-id-7\" type=\"checkbox\" ><label for=\"sk-estimator-id-7\" class=\"sk-toggleable__label sk-toggleable__label-arrow\">RandomUnderSampler</label><div class=\"sk-toggleable__content\"><pre>RandomUnderSampler(random_state=42, sampling_strategy=0.01)</pre></div></div></div><div class=\"sk-item\"><div class=\"sk-estimator sk-toggleable\"><input class=\"sk-toggleable__control sk-hidden--visually\" id=\"sk-estimator-id-8\" type=\"checkbox\" ><label for=\"sk-estimator-id-8\" class=\"sk-toggleable__label sk-toggleable__label-arrow\">CatBoostClassifier</label><div class=\"sk-toggleable__content\"><pre>&lt;catboost.core.CatBoostClassifier object at 0x7deae4923160&gt;</pre></div></div></div></div></div></div></div></div><div class=\"sk-parallel-item\"><div class=\"sk-item\"><div class=\"sk-label-container\"><div class=\"sk-label sk-toggleable\"><label>xgb</label></div></div><div class=\"sk-serial\"><div class=\"sk-item\"><div class=\"sk-serial\"><div class=\"sk-item\"><div class=\"sk-estimator sk-toggleable\"><input class=\"sk-toggleable__control sk-hidden--visually\" id=\"sk-estimator-id-9\" type=\"checkbox\" ><label for=\"sk-estimator-id-9\" class=\"sk-toggleable__label sk-toggleable__label-arrow\">RandomOverSampler</label><div class=\"sk-toggleable__content\"><pre>RandomOverSampler(random_state=42, sampling_strategy=0.003)</pre></div></div></div><div class=\"sk-item\"><div class=\"sk-estimator sk-toggleable\"><input class=\"sk-toggleable__control sk-hidden--visually\" id=\"sk-estimator-id-10\" type=\"checkbox\" ><label for=\"sk-estimator-id-10\" class=\"sk-toggleable__label sk-toggleable__label-arrow\">RandomUnderSampler</label><div class=\"sk-toggleable__content\"><pre>RandomUnderSampler(random_state=42, sampling_strategy=0.01)</pre></div></div></div><div class=\"sk-item\"><div class=\"sk-estimator sk-toggleable\"><input class=\"sk-toggleable__control sk-hidden--visually\" id=\"sk-estimator-id-11\" type=\"checkbox\" ><label for=\"sk-estimator-id-11\" class=\"sk-toggleable__label sk-toggleable__label-arrow\">XGBClassifier</label><div class=\"sk-toggleable__content\"><pre>XGBClassifier(alpha=0.6779926606782505, base_score=None, booster=None,\n",
              "              callbacks=None, colsample_bylevel=0.5476090898823716,\n",
              "              colsample_bynode=0.9928601203635129,\n",
              "              colsample_bytree=0.8437772277074493, device=None,\n",
              "              early_stopping_rounds=None, enable_categorical=True,\n",
              "              eval_metric=None, feature_types=None, gamma=None,\n",
              "              grow_policy=None, importance_type=None,\n",
              "              interaction_constraints=None, lambda=8.879624125465703,\n",
              "              learning_rate=0.08501257473292347, max_bin=None,\n",
              "              max_cat_threshold=None, max_cat_to_onehot=None,\n",
              "              max_delta_step=None, max_depth=6, max_leaves=None,\n",
              "              min_child_weight=None, missing=nan, monotone_constraints=None,\n",
              "              multi_strategy=None, n_estimators=None, n_jobs=None, ...)</pre></div></div></div></div></div></div></div></div></div></div></div></div>"
            ],
            "text/plain": [
              "VotingClassifier(estimators=[('lgb',\n",
              "                              Pipeline(steps=[('sampler_1',\n",
              "                                               RandomOverSampler(random_state=42,\n",
              "                                                                 sampling_strategy=0.003)),\n",
              "                                              ('sampler_2',\n",
              "                                               RandomUnderSampler(random_state=42,\n",
              "                                                                  sampling_strategy=0.01)),\n",
              "                                              ('filter',\n",
              "                                               SelectColumns(columns=['age_approx',\n",
              "                                                                      'clin_size_long_diam_mm',\n",
              "                                                                      'tbp_lv_A',\n",
              "                                                                      'tbp_lv_Aext',\n",
              "                                                                      'tbp_lv_B',\n",
              "                                                                      'tbp_lv_Bext',\n",
              "                                                                      'tbp_lv_C',\n",
              "                                                                      'tbp_lv_Cext',\n",
              "                                                                      'tbp_l...\n",
              "                                                             importance_type=None,\n",
              "                                                             interaction_constraints=None,\n",
              "                                                             lambda=8.879624125465703,\n",
              "                                                             learning_rate=0.08501257473292347,\n",
              "                                                             max_bin=None,\n",
              "                                                             max_cat_threshold=None,\n",
              "                                                             max_cat_to_onehot=None,\n",
              "                                                             max_delta_step=None,\n",
              "                                                             max_depth=6,\n",
              "                                                             max_leaves=None,\n",
              "                                                             min_child_weight=None,\n",
              "                                                             missing=nan,\n",
              "                                                             monotone_constraints=None,\n",
              "                                                             multi_strategy=None,\n",
              "                                                             n_estimators=None,\n",
              "                                                             n_jobs=None, ...))]))],\n",
              "                 voting='soft')"
            ]
          },
          "execution_count": 16,
          "metadata": {},
          "output_type": "execute_result"
        }
      ],
      "source": [
        "X, y = df_train[feature_cols], df_train[target_col]\n",
        "\n",
        "estimator.fit(X, y)"
      ]
    },
    {
      "cell_type": "code",
      "execution_count": null,
      "id": "d00641a6",
      "metadata": {
        "execution": {
          "iopub.execute_input": "2024-09-24T16:48:45.430627Z",
          "iopub.status.busy": "2024-09-24T16:48:45.430034Z",
          "iopub.status.idle": "2024-09-24T16:48:45.524863Z",
          "shell.execute_reply": "2024-09-24T16:48:45.524182Z"
        },
        "papermill": {
          "duration": 0.107808,
          "end_time": "2024-09-24T16:48:45.526951",
          "exception": false,
          "start_time": "2024-09-24T16:48:45.419143",
          "status": "completed"
        },
        "tags": [],
        "id": "d00641a6",
        "outputId": "6fbb7be8-49c8-4ece-bb9e-1b785bd005d5"
      },
      "outputs": [
        {
          "data": {
            "text/html": [
              "<div>\n",
              "<style scoped>\n",
              "    .dataframe tbody tr th:only-of-type {\n",
              "        vertical-align: middle;\n",
              "    }\n",
              "\n",
              "    .dataframe tbody tr th {\n",
              "        vertical-align: top;\n",
              "    }\n",
              "\n",
              "    .dataframe thead th {\n",
              "        text-align: right;\n",
              "    }\n",
              "</style>\n",
              "<table border=\"1\" class=\"dataframe\">\n",
              "  <thead>\n",
              "    <tr style=\"text-align: right;\">\n",
              "      <th></th>\n",
              "      <th>isic_id</th>\n",
              "      <th>target</th>\n",
              "    </tr>\n",
              "  </thead>\n",
              "  <tbody>\n",
              "    <tr>\n",
              "      <th>0</th>\n",
              "      <td>ISIC_0015657</td>\n",
              "      <td>0.299788</td>\n",
              "    </tr>\n",
              "    <tr>\n",
              "      <th>1</th>\n",
              "      <td>ISIC_0015729</td>\n",
              "      <td>0.259529</td>\n",
              "    </tr>\n",
              "    <tr>\n",
              "      <th>2</th>\n",
              "      <td>ISIC_0015740</td>\n",
              "      <td>0.268690</td>\n",
              "    </tr>\n",
              "  </tbody>\n",
              "</table>\n",
              "</div>"
            ],
            "text/plain": [
              "        isic_id    target\n",
              "0  ISIC_0015657  0.299788\n",
              "1  ISIC_0015729  0.259529\n",
              "2  ISIC_0015740  0.268690"
            ]
          },
          "execution_count": 17,
          "metadata": {},
          "output_type": "execute_result"
        }
      ],
      "source": [
        "df_subm['target'] = estimator.predict_proba(df_test[feature_cols])[:, 1]\n",
        "df_subm = df_subm.reset_index()\n",
        "df_subm.to_csv('submission_AllStrings_WithoutFeatEng.csv')\n",
        "df_subm.head()"
      ]
    },
    {
      "cell_type": "code",
      "execution_count": null,
      "id": "3803ffa7",
      "metadata": {
        "execution": {
          "iopub.execute_input": "2024-09-24T16:48:45.549294Z",
          "iopub.status.busy": "2024-09-24T16:48:45.548998Z",
          "iopub.status.idle": "2024-09-24T16:48:45.558736Z",
          "shell.execute_reply": "2024-09-24T16:48:45.557909Z"
        },
        "papermill": {
          "duration": 0.022798,
          "end_time": "2024-09-24T16:48:45.560656",
          "exception": false,
          "start_time": "2024-09-24T16:48:45.537858",
          "status": "completed"
        },
        "tags": [],
        "id": "3803ffa7",
        "outputId": "0a3fffda-97c1-4f39-8095-400980851838"
      },
      "outputs": [
        {
          "data": {
            "text/html": [
              "<div>\n",
              "<style scoped>\n",
              "    .dataframe tbody tr th:only-of-type {\n",
              "        vertical-align: middle;\n",
              "    }\n",
              "\n",
              "    .dataframe tbody tr th {\n",
              "        vertical-align: top;\n",
              "    }\n",
              "\n",
              "    .dataframe thead th {\n",
              "        text-align: right;\n",
              "    }\n",
              "</style>\n",
              "<table border=\"1\" class=\"dataframe\">\n",
              "  <thead>\n",
              "    <tr style=\"text-align: right;\">\n",
              "      <th></th>\n",
              "      <th>isic_id</th>\n",
              "      <th>target</th>\n",
              "    </tr>\n",
              "  </thead>\n",
              "  <tbody>\n",
              "    <tr>\n",
              "      <th>0</th>\n",
              "      <td>ISIC_0015657</td>\n",
              "      <td>0.299788</td>\n",
              "    </tr>\n",
              "    <tr>\n",
              "      <th>1</th>\n",
              "      <td>ISIC_0015729</td>\n",
              "      <td>0.259529</td>\n",
              "    </tr>\n",
              "    <tr>\n",
              "      <th>2</th>\n",
              "      <td>ISIC_0015740</td>\n",
              "      <td>0.268690</td>\n",
              "    </tr>\n",
              "  </tbody>\n",
              "</table>\n",
              "</div>"
            ],
            "text/plain": [
              "        isic_id    target\n",
              "0  ISIC_0015657  0.299788\n",
              "1  ISIC_0015729  0.259529\n",
              "2  ISIC_0015740  0.268690"
            ]
          },
          "metadata": {},
          "output_type": "display_data"
        }
      ],
      "source": [
        "sub = df_subm[['isic_id','target']]\n",
        "sub.to_csv('submission.csv', index=False)\n",
        "display(sub)"
      ]
    },
    {
      "cell_type": "code",
      "execution_count": null,
      "id": "1252145e",
      "metadata": {
        "papermill": {
          "duration": 0.010183,
          "end_time": "2024-09-24T16:48:45.768765",
          "exception": false,
          "start_time": "2024-09-24T16:48:45.758582",
          "status": "completed"
        },
        "tags": [],
        "id": "1252145e"
      },
      "outputs": [],
      "source": []
    }
  ],
  "metadata": {
    "kaggle": {
      "accelerator": "gpu",
      "dataSources": [
        {
          "databundleVersionId": 9094797,
          "sourceId": 63056,
          "sourceType": "competition"
        },
        {
          "datasetId": 5406640,
          "sourceId": 8982084,
          "sourceType": "datasetVersion"
        },
        {
          "datasetId": 5415918,
          "sourceId": 8991790,
          "sourceType": "datasetVersion"
        },
        {
          "datasetId": 5623917,
          "sourceId": 9289836,
          "sourceType": "datasetVersion"
        },
        {
          "sourceId": 186147615,
          "sourceType": "kernelVersion"
        },
        {
          "sourceId": 186149019,
          "sourceType": "kernelVersion"
        },
        {
          "sourceId": 187730674,
          "sourceType": "kernelVersion"
        },
        {
          "sourceId": 188543089,
          "sourceType": "kernelVersion"
        },
        {
          "sourceId": 188543756,
          "sourceType": "kernelVersion"
        },
        {
          "sourceId": 188602899,
          "sourceType": "kernelVersion"
        },
        {
          "sourceId": 188603204,
          "sourceType": "kernelVersion"
        },
        {
          "sourceId": 188603902,
          "sourceType": "kernelVersion"
        },
        {
          "sourceId": 190801726,
          "sourceType": "kernelVersion"
        },
        {
          "sourceId": 190815443,
          "sourceType": "kernelVersion"
        },
        {
          "sourceId": 190817588,
          "sourceType": "kernelVersion"
        },
        {
          "sourceId": 194823902,
          "sourceType": "kernelVersion"
        }
      ],
      "dockerImageVersionId": 30747,
      "isGpuEnabled": true,
      "isInternetEnabled": false,
      "language": "python",
      "sourceType": "notebook"
    },
    "kernelspec": {
      "display_name": "Python 3",
      "language": "python",
      "name": "python3"
    },
    "language_info": {
      "codemirror_mode": {
        "name": "ipython",
        "version": 3
      },
      "file_extension": ".py",
      "mimetype": "text/x-python",
      "name": "python",
      "nbconvert_exporter": "python",
      "pygments_lexer": "ipython3",
      "version": "3.10.13"
    },
    "papermill": {
      "default_parameters": {},
      "duration": 324.707463,
      "end_time": "2024-09-24T16:48:46.599895",
      "environment_variables": {},
      "exception": null,
      "input_path": "__notebook__.ipynb",
      "output_path": "__notebook__.ipynb",
      "parameters": {},
      "start_time": "2024-09-24T16:43:21.892432",
      "version": "2.5.0"
    },
    "colab": {
      "provenance": []
    }
  },
  "nbformat": 4,
  "nbformat_minor": 5
}