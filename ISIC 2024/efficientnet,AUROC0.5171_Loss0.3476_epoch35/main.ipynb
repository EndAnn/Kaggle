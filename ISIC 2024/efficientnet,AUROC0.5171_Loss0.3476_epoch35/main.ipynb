{
 "cells": [
  {
   "cell_type": "markdown",
   "id": "f6e4a6fe",
   "metadata": {
    "papermill": {
     "duration": 0.007418,
     "end_time": "2024-07-16T22:07:24.376488",
     "exception": false,
     "start_time": "2024-07-16T22:07:24.369070",
     "status": "completed"
    },
    "tags": []
   },
   "source": [
    "- [Training notebook](https://www.kaggle.com/code/motono0223/isic-pytorch-training-baseline-image-only)\n",
    "- Inference notebook (This notebook)"
   ]
  },
  {
   "cell_type": "markdown",
   "id": "92a9976d",
   "metadata": {
    "papermill": {
     "duration": 0.006555,
     "end_time": "2024-07-16T22:07:24.389990",
     "exception": false,
     "start_time": "2024-07-16T22:07:24.383435",
     "status": "completed"
    },
    "tags": []
   },
   "source": [
    "# <span><h1 style = \"font-family: garamond; font-size: 40px; font-style: normal; letter-spcaing: 3px; background-color: #f6f5f5; color :#fe346e; border-radius: 100px 100px; text-align:center\">Import Required Libraries 📚</h1></span>"
   ]
  },
  {
   "cell_type": "code",
   "execution_count": 1,
   "id": "34091943",
   "metadata": {
    "execution": {
     "iopub.execute_input": "2024-07-16T22:07:24.404493Z",
     "iopub.status.busy": "2024-07-16T22:07:24.404223Z",
     "iopub.status.idle": "2024-07-16T22:07:24.416477Z",
     "shell.execute_reply": "2024-07-16T22:07:24.415606Z"
    },
    "papermill": {
     "duration": 0.021666,
     "end_time": "2024-07-16T22:07:24.418313",
     "exception": false,
     "start_time": "2024-07-16T22:07:24.396647",
     "status": "completed"
    },
    "tags": []
   },
   "outputs": [
    {
     "name": "stdout",
     "output_type": "stream",
     "text": [
      "Writing main.py\n"
     ]
    }
   ],
   "source": [
    "%%writefile main.py\n",
    "import os\n",
    "import gc\n",
    "import cv2\n",
    "import math\n",
    "import copy\n",
    "import time\n",
    "import random\n",
    "import glob\n",
    "from matplotlib import pyplot as plt\n",
    "\n",
    "import h5py\n",
    "from PIL import Image\n",
    "from io import BytesIO\n",
    "\n",
    "# For data manipulation\n",
    "import numpy as np\n",
    "import pandas as pd\n",
    "\n",
    "# Pytorch Imports\n",
    "import torch\n",
    "import torch.nn as nn\n",
    "import torch.optim as optim\n",
    "import torch.nn.functional as F\n",
    "from torch.optim import lr_scheduler\n",
    "from torch.utils.data import Dataset, DataLoader\n",
    "from torch.cuda import amp\n",
    "import torchvision\n",
    "\n",
    "# Utils\n",
    "import joblib\n",
    "from tqdm import tqdm\n",
    "from collections import defaultdict\n",
    "\n",
    "# Sklearn Imports\n",
    "from sklearn.preprocessing import LabelEncoder\n",
    "from sklearn.model_selection import StratifiedKFold\n",
    "\n",
    "# For Image Models\n",
    "import timm\n",
    "\n",
    "# Albumentations for augmentations\n",
    "import albumentations as A\n",
    "from albumentations.pytorch import ToTensorV2\n",
    "\n",
    "# For colored terminal text\n",
    "from colorama import Fore, Back, Style\n",
    "b_ = Fore.BLUE\n",
    "sr_ = Style.RESET_ALL\n",
    "\n",
    "import warnings\n",
    "warnings.filterwarnings(\"ignore\")\n",
    "\n",
    "# For descriptive error messages\n",
    "os.environ['CUDA_LAUNCH_BLOCKING'] = \"1\""
   ]
  },
  {
   "cell_type": "code",
   "execution_count": 2,
   "id": "9c17bdc3",
   "metadata": {
    "execution": {
     "iopub.execute_input": "2024-07-16T22:07:24.433114Z",
     "iopub.status.busy": "2024-07-16T22:07:24.432863Z",
     "iopub.status.idle": "2024-07-16T22:07:24.437532Z",
     "shell.execute_reply": "2024-07-16T22:07:24.436756Z"
    },
    "papermill": {
     "duration": 0.014368,
     "end_time": "2024-07-16T22:07:24.439561",
     "exception": false,
     "start_time": "2024-07-16T22:07:24.425193",
     "status": "completed"
    },
    "tags": []
   },
   "outputs": [
    {
     "name": "stdout",
     "output_type": "stream",
     "text": [
      "Appending to main.py\n"
     ]
    }
   ],
   "source": [
    "%%writefile -a main.py\n",
    "import sys\n",
    "BEST_WEIGHT = sys.argv[1]\n",
    "print(f\"BEST_WEIGHT = {BEST_WEIGHT}\")"
   ]
  },
  {
   "cell_type": "markdown",
   "id": "6238f12e",
   "metadata": {
    "papermill": {
     "duration": 0.006874,
     "end_time": "2024-07-16T22:07:24.454390",
     "exception": false,
     "start_time": "2024-07-16T22:07:24.447516",
     "status": "completed"
    },
    "tags": []
   },
   "source": [
    "# <span><h1 style = \"font-family: garamond; font-size: 40px; font-style: normal; letter-spcaing: 3px; background-color: #f6f5f5; color :#fe346e; border-radius: 100px 100px; text-align:center\">Training Configuration ⚙️</h1></span>"
   ]
  },
  {
   "cell_type": "code",
   "execution_count": 3,
   "id": "6f51d3fc",
   "metadata": {
    "execution": {
     "iopub.execute_input": "2024-07-16T22:07:24.469578Z",
     "iopub.status.busy": "2024-07-16T22:07:24.468986Z",
     "iopub.status.idle": "2024-07-16T22:07:24.473880Z",
     "shell.execute_reply": "2024-07-16T22:07:24.473112Z"
    },
    "papermill": {
     "duration": 0.01442,
     "end_time": "2024-07-16T22:07:24.475713",
     "exception": false,
     "start_time": "2024-07-16T22:07:24.461293",
     "status": "completed"
    },
    "tags": []
   },
   "outputs": [
    {
     "name": "stdout",
     "output_type": "stream",
     "text": [
      "Appending to main.py\n"
     ]
    }
   ],
   "source": [
    "%%writefile -a main.py\n",
    "CONFIG = {\n",
    "    \"seed\": 42,\n",
    "    \"img_size\": 384,\n",
    "    \"model_name\": \"tf_efficientnet_b0_ns\",\n",
    "    \"valid_batch_size\": 32,\n",
    "    \"device\": torch.device(\"cuda:0\" if torch.cuda.is_available() else \"cpu\"),\n",
    "}"
   ]
  },
  {
   "cell_type": "markdown",
   "id": "965e7d7e",
   "metadata": {
    "papermill": {
     "duration": 0.006826,
     "end_time": "2024-07-16T22:07:24.489759",
     "exception": false,
     "start_time": "2024-07-16T22:07:24.482933",
     "status": "completed"
    },
    "tags": []
   },
   "source": [
    "# <span><h1 style = \"font-family: garamond; font-size: 40px; font-style: normal; letter-spcaing: 3px; background-color: #f6f5f5; color :#fe346e; border-radius: 100px 100px; text-align:center\">Set Seed for Reproducibility</h1></span>"
   ]
  },
  {
   "cell_type": "code",
   "execution_count": 4,
   "id": "9b665e87",
   "metadata": {
    "execution": {
     "iopub.execute_input": "2024-07-16T22:07:24.504793Z",
     "iopub.status.busy": "2024-07-16T22:07:24.504512Z",
     "iopub.status.idle": "2024-07-16T22:07:24.509631Z",
     "shell.execute_reply": "2024-07-16T22:07:24.508877Z"
    },
    "papermill": {
     "duration": 0.014701,
     "end_time": "2024-07-16T22:07:24.511463",
     "exception": false,
     "start_time": "2024-07-16T22:07:24.496762",
     "status": "completed"
    },
    "tags": []
   },
   "outputs": [
    {
     "name": "stdout",
     "output_type": "stream",
     "text": [
      "Appending to main.py\n"
     ]
    }
   ],
   "source": [
    "%%writefile -a main.py\n",
    "def set_seed(seed=42):\n",
    "    '''Sets the seed of the entire notebook so results are the same every time we run.\n",
    "    This is for REPRODUCIBILITY.'''\n",
    "    np.random.seed(seed)\n",
    "    torch.manual_seed(seed)\n",
    "    torch.cuda.manual_seed(seed)\n",
    "    # When running on the CuDNN backend, two further options must be set\n",
    "    torch.backends.cudnn.deterministic = True\n",
    "    torch.backends.cudnn.benchmark = False\n",
    "    # Set a fixed value for the hash seed\n",
    "    os.environ['PYTHONHASHSEED'] = str(seed)\n",
    "    \n",
    "set_seed(CONFIG['seed'])"
   ]
  },
  {
   "cell_type": "code",
   "execution_count": 5,
   "id": "e79e297b",
   "metadata": {
    "execution": {
     "iopub.execute_input": "2024-07-16T22:07:24.526554Z",
     "iopub.status.busy": "2024-07-16T22:07:24.526294Z",
     "iopub.status.idle": "2024-07-16T22:07:24.531139Z",
     "shell.execute_reply": "2024-07-16T22:07:24.530382Z"
    },
    "papermill": {
     "duration": 0.01456,
     "end_time": "2024-07-16T22:07:24.533091",
     "exception": false,
     "start_time": "2024-07-16T22:07:24.518531",
     "status": "completed"
    },
    "tags": []
   },
   "outputs": [
    {
     "name": "stdout",
     "output_type": "stream",
     "text": [
      "Appending to main.py\n"
     ]
    }
   ],
   "source": [
    "%%writefile -a main.py\n",
    "ROOT_DIR = \"/kaggle/input/isic-2024-challenge\"\n",
    "TEST_CSV = f'{ROOT_DIR}/test-metadata.csv'\n",
    "TEST_HDF = f'{ROOT_DIR}/test-image.hdf5'\n",
    "SAMPLE = f'{ROOT_DIR}/sample_submission.csv'\n",
    "\n",
    "#BEST_WEIGHT = \"/kaggle/input/isic-pytorch-training-baseline-image-only/AUROC0.5171_Loss0.3476_epoch35.bin\""
   ]
  },
  {
   "cell_type": "markdown",
   "id": "a3a606cf",
   "metadata": {
    "papermill": {
     "duration": 0.006937,
     "end_time": "2024-07-16T22:07:24.548027",
     "exception": false,
     "start_time": "2024-07-16T22:07:24.541090",
     "status": "completed"
    },
    "tags": []
   },
   "source": [
    "# <h1 style = \"font-family: garamond; font-size: 40px; font-style: normal; letter-spcaing: 3px; background-color: #f6f5f5; color :#fe346e; border-radius: 100px 100px; text-align:center\">Read the Data 📖</h1>"
   ]
  },
  {
   "cell_type": "code",
   "execution_count": 6,
   "id": "f66e3996",
   "metadata": {
    "execution": {
     "iopub.execute_input": "2024-07-16T22:07:24.563265Z",
     "iopub.status.busy": "2024-07-16T22:07:24.563012Z",
     "iopub.status.idle": "2024-07-16T22:07:24.567726Z",
     "shell.execute_reply": "2024-07-16T22:07:24.566955Z"
    },
    "papermill": {
     "duration": 0.014507,
     "end_time": "2024-07-16T22:07:24.569663",
     "exception": false,
     "start_time": "2024-07-16T22:07:24.555156",
     "status": "completed"
    },
    "tags": []
   },
   "outputs": [
    {
     "name": "stdout",
     "output_type": "stream",
     "text": [
      "Appending to main.py\n"
     ]
    }
   ],
   "source": [
    "%%writefile -a main.py\n",
    "df = pd.read_csv(TEST_CSV)\n",
    "df['target'] = 0 # dummy\n",
    "df"
   ]
  },
  {
   "cell_type": "code",
   "execution_count": 7,
   "id": "6a8fa7bf",
   "metadata": {
    "execution": {
     "iopub.execute_input": "2024-07-16T22:07:24.587370Z",
     "iopub.status.busy": "2024-07-16T22:07:24.586885Z",
     "iopub.status.idle": "2024-07-16T22:07:24.591555Z",
     "shell.execute_reply": "2024-07-16T22:07:24.590745Z"
    },
    "papermill": {
     "duration": 0.014709,
     "end_time": "2024-07-16T22:07:24.593501",
     "exception": false,
     "start_time": "2024-07-16T22:07:24.578792",
     "status": "completed"
    },
    "tags": []
   },
   "outputs": [
    {
     "name": "stdout",
     "output_type": "stream",
     "text": [
      "Appending to main.py\n"
     ]
    }
   ],
   "source": [
    "%%writefile -a main.py\n",
    "df_sub = pd.read_csv(SAMPLE)\n",
    "df_sub"
   ]
  },
  {
   "cell_type": "markdown",
   "id": "a7e1cff3",
   "metadata": {
    "papermill": {
     "duration": 0.007073,
     "end_time": "2024-07-16T22:07:24.607963",
     "exception": false,
     "start_time": "2024-07-16T22:07:24.600890",
     "status": "completed"
    },
    "tags": []
   },
   "source": [
    "# <span><h1 style = \"font-family: garamond; font-size: 40px; font-style: normal; letter-spcaing: 3px; background-color: #f6f5f5; color :#fe346e; border-radius: 100px 100px; text-align:center\">Dataset Class</h1></span>"
   ]
  },
  {
   "cell_type": "code",
   "execution_count": 8,
   "id": "3ee1b874",
   "metadata": {
    "execution": {
     "iopub.execute_input": "2024-07-16T22:07:24.624403Z",
     "iopub.status.busy": "2024-07-16T22:07:24.623794Z",
     "iopub.status.idle": "2024-07-16T22:07:24.629015Z",
     "shell.execute_reply": "2024-07-16T22:07:24.628128Z"
    },
    "papermill": {
     "duration": 0.015158,
     "end_time": "2024-07-16T22:07:24.630881",
     "exception": false,
     "start_time": "2024-07-16T22:07:24.615723",
     "status": "completed"
    },
    "tags": []
   },
   "outputs": [
    {
     "name": "stdout",
     "output_type": "stream",
     "text": [
      "Appending to main.py\n"
     ]
    }
   ],
   "source": [
    "%%writefile -a main.py\n",
    "class ISICDataset(Dataset):\n",
    "    def __init__(self, df, file_hdf, transforms=None):\n",
    "        self.df = df\n",
    "        self.fp_hdf = h5py.File(file_hdf, mode=\"r\")\n",
    "        self.isic_ids = df['isic_id'].values\n",
    "        self.targets = df['target'].values\n",
    "        self.transforms = transforms\n",
    "        \n",
    "    def __len__(self):\n",
    "        return len(self.isic_ids)\n",
    "    \n",
    "    def __getitem__(self, index):\n",
    "        isic_id = self.isic_ids[index]\n",
    "        img = np.array( Image.open(BytesIO(self.fp_hdf[isic_id][()])) )\n",
    "        target = self.targets[index]\n",
    "        \n",
    "        if self.transforms:\n",
    "            img = self.transforms(image=img)[\"image\"]\n",
    "            \n",
    "        return {\n",
    "            'image': img,\n",
    "            'target': target,\n",
    "        }"
   ]
  },
  {
   "cell_type": "markdown",
   "id": "1bba5da7",
   "metadata": {
    "papermill": {
     "duration": 0.007331,
     "end_time": "2024-07-16T22:07:24.645810",
     "exception": false,
     "start_time": "2024-07-16T22:07:24.638479",
     "status": "completed"
    },
    "tags": []
   },
   "source": [
    "# <span><h1 style = \"font-family: garamond; font-size: 40px; font-style: normal; letter-spcaing: 3px; background-color: #f6f5f5; color :#fe346e; border-radius: 100px 100px; text-align:center\">Augmentations</h1></span>"
   ]
  },
  {
   "cell_type": "code",
   "execution_count": 9,
   "id": "91462b60",
   "metadata": {
    "execution": {
     "iopub.execute_input": "2024-07-16T22:07:24.662548Z",
     "iopub.status.busy": "2024-07-16T22:07:24.661958Z",
     "iopub.status.idle": "2024-07-16T22:07:24.666755Z",
     "shell.execute_reply": "2024-07-16T22:07:24.665959Z"
    },
    "papermill": {
     "duration": 0.015232,
     "end_time": "2024-07-16T22:07:24.668570",
     "exception": false,
     "start_time": "2024-07-16T22:07:24.653338",
     "status": "completed"
    },
    "tags": []
   },
   "outputs": [
    {
     "name": "stdout",
     "output_type": "stream",
     "text": [
      "Appending to main.py\n"
     ]
    }
   ],
   "source": [
    "%%writefile -a main.py\n",
    "data_transforms = {\n",
    "    \"valid\": A.Compose([\n",
    "        A.Resize(CONFIG['img_size'], CONFIG['img_size']),\n",
    "        A.Normalize(\n",
    "                mean=[0.485, 0.456, 0.406], \n",
    "                std=[0.229, 0.224, 0.225], \n",
    "                max_pixel_value=255.0, \n",
    "                p=1.0\n",
    "            ),\n",
    "        ToTensorV2()], p=1.)\n",
    "}"
   ]
  },
  {
   "cell_type": "markdown",
   "id": "f64627fe",
   "metadata": {
    "papermill": {
     "duration": 0.007329,
     "end_time": "2024-07-16T22:07:24.683375",
     "exception": false,
     "start_time": "2024-07-16T22:07:24.676046",
     "status": "completed"
    },
    "tags": []
   },
   "source": [
    "# <span><h1 style = \"font-family: garamond; font-size: 40px; font-style: normal; letter-spcaing: 3px; background-color: #f6f5f5; color :#fe346e; border-radius: 100px 100px; text-align:center\">GeM Pooling</h1></span>"
   ]
  },
  {
   "cell_type": "code",
   "execution_count": 10,
   "id": "e26d9222",
   "metadata": {
    "execution": {
     "iopub.execute_input": "2024-07-16T22:07:24.699682Z",
     "iopub.status.busy": "2024-07-16T22:07:24.699169Z",
     "iopub.status.idle": "2024-07-16T22:07:24.703845Z",
     "shell.execute_reply": "2024-07-16T22:07:24.703072Z"
    },
    "papermill": {
     "duration": 0.014881,
     "end_time": "2024-07-16T22:07:24.705858",
     "exception": false,
     "start_time": "2024-07-16T22:07:24.690977",
     "status": "completed"
    },
    "tags": []
   },
   "outputs": [
    {
     "name": "stdout",
     "output_type": "stream",
     "text": [
      "Appending to main.py\n"
     ]
    }
   ],
   "source": [
    "%%writefile -a main.py\n",
    "class GeM(nn.Module):\n",
    "    def __init__(self, p=3, eps=1e-6):\n",
    "        super(GeM, self).__init__()\n",
    "        self.p = nn.Parameter(torch.ones(1)*p)\n",
    "        self.eps = eps\n",
    "\n",
    "    def forward(self, x):\n",
    "        return self.gem(x, p=self.p, eps=self.eps)\n",
    "        \n",
    "    def gem(self, x, p=3, eps=1e-6):\n",
    "        return F.avg_pool2d(x.clamp(min=eps).pow(p), (x.size(-2), x.size(-1))).pow(1./p)\n",
    "        \n",
    "    def __repr__(self):\n",
    "        return self.__class__.__name__ + \\\n",
    "                '(' + 'p=' + '{:.4f}'.format(self.p.data.tolist()[0]) + \\\n",
    "                ', ' + 'eps=' + str(self.eps) + ')'"
   ]
  },
  {
   "cell_type": "markdown",
   "id": "30ed4b5e",
   "metadata": {
    "papermill": {
     "duration": 0.007308,
     "end_time": "2024-07-16T22:07:24.720777",
     "exception": false,
     "start_time": "2024-07-16T22:07:24.713469",
     "status": "completed"
    },
    "tags": []
   },
   "source": [
    "# <span><h1 style = \"font-family: garamond; font-size: 40px; font-style: normal; letter-spcaing: 3px; background-color: #f6f5f5; color :#fe346e; border-radius: 100px 100px; text-align:center\">Create Model</h1></span>"
   ]
  },
  {
   "cell_type": "code",
   "execution_count": 11,
   "id": "da6761bf",
   "metadata": {
    "execution": {
     "iopub.execute_input": "2024-07-16T22:07:24.737424Z",
     "iopub.status.busy": "2024-07-16T22:07:24.736841Z",
     "iopub.status.idle": "2024-07-16T22:07:24.741961Z",
     "shell.execute_reply": "2024-07-16T22:07:24.741145Z"
    },
    "papermill": {
     "duration": 0.015587,
     "end_time": "2024-07-16T22:07:24.744005",
     "exception": false,
     "start_time": "2024-07-16T22:07:24.728418",
     "status": "completed"
    },
    "tags": []
   },
   "outputs": [
    {
     "name": "stdout",
     "output_type": "stream",
     "text": [
      "Appending to main.py\n"
     ]
    }
   ],
   "source": [
    "%%writefile -a main.py\n",
    "class ISICModel(nn.Module):\n",
    "    def __init__(self, model_name, num_classes=1, pretrained=True, checkpoint_path=None):\n",
    "        super(ISICModel, self).__init__()\n",
    "        self.model = timm.create_model(model_name, pretrained=pretrained, checkpoint_path=checkpoint_path)\n",
    "\n",
    "        in_features = self.model.classifier.in_features\n",
    "        self.model.classifier = nn.Identity()\n",
    "        self.model.global_pool = nn.Identity()\n",
    "        self.pooling = GeM()\n",
    "        self.linear = nn.Linear(in_features, num_classes)\n",
    "        self.sigmoid = nn.Sigmoid()\n",
    "\n",
    "    def forward(self, images):\n",
    "        features = self.model(images)\n",
    "        pooled_features = self.pooling(features).flatten(1)\n",
    "        output = self.sigmoid(self.linear(pooled_features))\n",
    "        return output\n",
    "    \n",
    "model = ISICModel(CONFIG['model_name'], pretrained=False)\n",
    "model.load_state_dict( torch.load(BEST_WEIGHT) )\n",
    "model.to(CONFIG['device']);"
   ]
  },
  {
   "cell_type": "markdown",
   "id": "2e1c5872",
   "metadata": {
    "papermill": {
     "duration": 0.007471,
     "end_time": "2024-07-16T22:07:24.759056",
     "exception": false,
     "start_time": "2024-07-16T22:07:24.751585",
     "status": "completed"
    },
    "tags": []
   },
   "source": [
    "<span style=\"color: #000508; font-family: Segoe UI; font-size: 1.5em; font-weight: 300;\">Prepare Dataloaders</span>"
   ]
  },
  {
   "cell_type": "code",
   "execution_count": 12,
   "id": "3766ba05",
   "metadata": {
    "execution": {
     "iopub.execute_input": "2024-07-16T22:07:24.775342Z",
     "iopub.status.busy": "2024-07-16T22:07:24.775111Z",
     "iopub.status.idle": "2024-07-16T22:07:24.779642Z",
     "shell.execute_reply": "2024-07-16T22:07:24.778816Z"
    },
    "papermill": {
     "duration": 0.014787,
     "end_time": "2024-07-16T22:07:24.781591",
     "exception": false,
     "start_time": "2024-07-16T22:07:24.766804",
     "status": "completed"
    },
    "tags": []
   },
   "outputs": [
    {
     "name": "stdout",
     "output_type": "stream",
     "text": [
      "Appending to main.py\n"
     ]
    }
   ],
   "source": [
    "%%writefile -a main.py\n",
    "test_dataset = ISICDataset(df, TEST_HDF, transforms=data_transforms[\"valid\"])\n",
    "test_loader = DataLoader(test_dataset, batch_size=CONFIG['valid_batch_size'], \n",
    "                          num_workers=2, shuffle=False, pin_memory=True)"
   ]
  },
  {
   "cell_type": "markdown",
   "id": "38876275",
   "metadata": {
    "papermill": {
     "duration": 0.007574,
     "end_time": "2024-07-16T22:07:24.797079",
     "exception": false,
     "start_time": "2024-07-16T22:07:24.789505",
     "status": "completed"
    },
    "tags": []
   },
   "source": [
    "<span style=\"color: #000508; font-family: Segoe UI; font-size: 1.5em; font-weight: 300;\">Start Inference</span>"
   ]
  },
  {
   "cell_type": "code",
   "execution_count": 13,
   "id": "b6f73892",
   "metadata": {
    "execution": {
     "iopub.execute_input": "2024-07-16T22:07:24.813784Z",
     "iopub.status.busy": "2024-07-16T22:07:24.813166Z",
     "iopub.status.idle": "2024-07-16T22:07:24.818342Z",
     "shell.execute_reply": "2024-07-16T22:07:24.817460Z"
    },
    "papermill": {
     "duration": 0.015372,
     "end_time": "2024-07-16T22:07:24.820181",
     "exception": false,
     "start_time": "2024-07-16T22:07:24.804809",
     "status": "completed"
    },
    "tags": []
   },
   "outputs": [
    {
     "name": "stdout",
     "output_type": "stream",
     "text": [
      "Appending to main.py\n"
     ]
    }
   ],
   "source": [
    "%%writefile -a main.py\n",
    "preds = []\n",
    "with torch.no_grad():\n",
    "    bar = tqdm(enumerate(test_loader), total=len(test_loader))\n",
    "    for step, data in bar:        \n",
    "        images = data['image'].to(CONFIG[\"device\"], dtype=torch.float)        \n",
    "        batch_size = images.size(0)\n",
    "        outputs = model(images)\n",
    "        preds.append( outputs.detach().cpu().numpy() )\n",
    "preds = np.concatenate(preds).flatten()"
   ]
  },
  {
   "cell_type": "code",
   "execution_count": 14,
   "id": "df71f6c8",
   "metadata": {
    "execution": {
     "iopub.execute_input": "2024-07-16T22:07:24.836550Z",
     "iopub.status.busy": "2024-07-16T22:07:24.836312Z",
     "iopub.status.idle": "2024-07-16T22:07:24.841124Z",
     "shell.execute_reply": "2024-07-16T22:07:24.840114Z"
    },
    "papermill": {
     "duration": 0.014993,
     "end_time": "2024-07-16T22:07:24.842958",
     "exception": false,
     "start_time": "2024-07-16T22:07:24.827965",
     "status": "completed"
    },
    "tags": []
   },
   "outputs": [
    {
     "name": "stdout",
     "output_type": "stream",
     "text": [
      "Appending to main.py\n"
     ]
    }
   ],
   "source": [
    "%%writefile -a main.py\n",
    "df_sub[\"target\"] = preds\n",
    "df_sub.to_csv(\"submission.csv\", index=False)"
   ]
  },
  {
   "cell_type": "markdown",
   "id": "5451dbaf",
   "metadata": {
    "papermill": {
     "duration": 0.007592,
     "end_time": "2024-07-16T22:07:24.858682",
     "exception": false,
     "start_time": "2024-07-16T22:07:24.851090",
     "status": "completed"
    },
    "tags": []
   },
   "source": [
    "# Test"
   ]
  },
  {
   "cell_type": "code",
   "execution_count": 15,
   "id": "16a65e26",
   "metadata": {
    "execution": {
     "iopub.execute_input": "2024-07-16T22:07:24.875816Z",
     "iopub.status.busy": "2024-07-16T22:07:24.875137Z",
     "iopub.status.idle": "2024-07-16T22:07:38.386141Z",
     "shell.execute_reply": "2024-07-16T22:07:38.385165Z"
    },
    "papermill": {
     "duration": 13.522041,
     "end_time": "2024-07-16T22:07:38.388681",
     "exception": false,
     "start_time": "2024-07-16T22:07:24.866640",
     "status": "completed"
    },
    "tags": []
   },
   "outputs": [
    {
     "name": "stdout",
     "output_type": "stream",
     "text": [
      "BEST_WEIGHT = /kaggle/input/isic-pytorch-training-baseline-image-only/AUROC0.5171_Loss0.3476_epoch35.bin\r\n",
      "100%|█████████████████████████████████████████████| 1/1 [00:00<00:00,  1.07it/s]\r\n"
     ]
    }
   ],
   "source": [
    "!python main.py /kaggle/input/isic-pytorch-training-baseline-image-only/AUROC0.5171_Loss0.3476_epoch35.bin"
   ]
  },
  {
   "cell_type": "code",
   "execution_count": 16,
   "id": "c161c44a",
   "metadata": {
    "execution": {
     "iopub.execute_input": "2024-07-16T22:07:38.407090Z",
     "iopub.status.busy": "2024-07-16T22:07:38.406774Z",
     "iopub.status.idle": "2024-07-16T22:07:40.394857Z",
     "shell.execute_reply": "2024-07-16T22:07:40.393800Z"
    },
    "papermill": {
     "duration": 2.000049,
     "end_time": "2024-07-16T22:07:40.397420",
     "exception": false,
     "start_time": "2024-07-16T22:07:38.397371",
     "status": "completed"
    },
    "tags": []
   },
   "outputs": [
    {
     "name": "stdout",
     "output_type": "stream",
     "text": [
      "isic_id,target\r\n",
      "ISIC_0015657,0.9901834\r\n",
      "ISIC_0015729,0.040406685\r\n",
      "ISIC_0015740,0.05807737\r\n"
     ]
    }
   ],
   "source": [
    "!head submission.csv\n",
    "!rm submission.csv"
   ]
  }
 ],
 "metadata": {
  "kaggle": {
   "accelerator": "gpu",
   "dataSources": [
    {
     "databundleVersionId": 9094797,
     "sourceId": 63056,
     "sourceType": "competition"
    },
    {
     "sourceId": 186147615,
     "sourceType": "kernelVersion"
    },
    {
     "modelInstanceId": 2656,
     "sourceId": 3729,
     "sourceType": "modelInstanceVersion"
    }
   ],
   "isGpuEnabled": true,
   "isInternetEnabled": false,
   "language": "python",
   "sourceType": "notebook"
  },
  "kernelspec": {
   "display_name": "Python 3",
   "language": "python",
   "name": "python3"
  },
  "language_info": {
   "codemirror_mode": {
    "name": "ipython",
    "version": 3
   },
   "file_extension": ".py",
   "mimetype": "text/x-python",
   "name": "python",
   "nbconvert_exporter": "python",
   "pygments_lexer": "ipython3",
   "version": "3.10.13"
  },
  "papermill": {
   "default_parameters": {},
   "duration": 19.010245,
   "end_time": "2024-07-16T22:07:40.625747",
   "environment_variables": {},
   "exception": null,
   "input_path": "__notebook__.ipynb",
   "output_path": "__notebook__.ipynb",
   "parameters": {},
   "start_time": "2024-07-16T22:07:21.615502",
   "version": "2.5.0"
  }
 },
 "nbformat": 4,
 "nbformat_minor": 5
}
