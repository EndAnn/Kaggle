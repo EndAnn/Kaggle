{
 "cells": [
  {
   "cell_type": "markdown",
   "id": "2581da12",
   "metadata": {
    "papermill": {
     "duration": 0.004567,
     "end_time": "2025-05-31T21:37:21.117524",
     "exception": false,
     "start_time": "2025-05-31T21:37:21.112957",
     "status": "completed"
    },
    "tags": []
   },
   "source": [
    "- [Training notebook](https://www.kaggle.com/code/motono0223/isic-pytorch-training-baseline-image-only)\n",
    "- Inference notebook (This notebook)"
   ]
  },
  {
   "cell_type": "markdown",
   "id": "cf15fe5f",
   "metadata": {
    "papermill": {
     "duration": 0.003317,
     "end_time": "2025-05-31T21:37:21.124532",
     "exception": false,
     "start_time": "2025-05-31T21:37:21.121215",
     "status": "completed"
    },
    "tags": []
   },
   "source": [
    "# <span><h1 style = \"font-family: garamond; font-size: 40px; font-style: normal; letter-spcaing: 3px; background-color: #f6f5f5; color :#fe346e; border-radius: 100px 100px; text-align:center\">Import Required Libraries 📚</h1></span>"
   ]
  },
  {
   "cell_type": "code",
   "execution_count": 1,
   "id": "054905d4",
   "metadata": {
    "execution": {
     "iopub.execute_input": "2025-05-31T21:37:21.132102Z",
     "iopub.status.busy": "2025-05-31T21:37:21.131901Z",
     "iopub.status.idle": "2025-05-31T21:37:21.139305Z",
     "shell.execute_reply": "2025-05-31T21:37:21.138763Z"
    },
    "papermill": {
     "duration": 0.012442,
     "end_time": "2025-05-31T21:37:21.140370",
     "exception": false,
     "start_time": "2025-05-31T21:37:21.127928",
     "status": "completed"
    },
    "tags": []
   },
   "outputs": [
    {
     "name": "stdout",
     "output_type": "stream",
     "text": [
      "Writing main.py\n"
     ]
    }
   ],
   "source": [
    "%%writefile main.py\n",
    "import os\n",
    "import gc\n",
    "import cv2\n",
    "import math\n",
    "import copy\n",
    "import time\n",
    "import random\n",
    "import glob\n",
    "from matplotlib import pyplot as plt\n",
    "\n",
    "import h5py\n",
    "from PIL import Image\n",
    "from io import BytesIO\n",
    "\n",
    "# For data manipulation\n",
    "import numpy as np\n",
    "import pandas as pd\n",
    "\n",
    "# Pytorch Imports\n",
    "import torch\n",
    "import torch.nn as nn\n",
    "import torch.optim as optim\n",
    "import torch.nn.functional as F\n",
    "from torch.optim import lr_scheduler\n",
    "from torch.utils.data import Dataset, DataLoader\n",
    "from torch.cuda import amp\n",
    "import torchvision\n",
    "\n",
    "# Utils\n",
    "import joblib\n",
    "from tqdm import tqdm\n",
    "from collections import defaultdict\n",
    "\n",
    "# Sklearn Imports\n",
    "from sklearn.preprocessing import LabelEncoder\n",
    "from sklearn.model_selection import StratifiedKFold\n",
    "\n",
    "# For Image Models\n",
    "import timm\n",
    "\n",
    "# Albumentations for augmentations\n",
    "import albumentations as A\n",
    "from albumentations.pytorch import ToTensorV2\n",
    "\n",
    "# For colored terminal text\n",
    "from colorama import Fore, Back, Style\n",
    "b_ = Fore.BLUE\n",
    "sr_ = Style.RESET_ALL\n",
    "\n",
    "import warnings\n",
    "warnings.filterwarnings(\"ignore\")\n",
    "\n",
    "# For descriptive error messages\n",
    "os.environ['CUDA_LAUNCH_BLOCKING'] = \"1\""
   ]
  },
  {
   "cell_type": "code",
   "execution_count": 2,
   "id": "6356120e",
   "metadata": {
    "execution": {
     "iopub.execute_input": "2025-05-31T21:37:21.148052Z",
     "iopub.status.busy": "2025-05-31T21:37:21.147855Z",
     "iopub.status.idle": "2025-05-31T21:37:21.151952Z",
     "shell.execute_reply": "2025-05-31T21:37:21.151197Z"
    },
    "papermill": {
     "duration": 0.009088,
     "end_time": "2025-05-31T21:37:21.153024",
     "exception": false,
     "start_time": "2025-05-31T21:37:21.143936",
     "status": "completed"
    },
    "tags": []
   },
   "outputs": [
    {
     "name": "stdout",
     "output_type": "stream",
     "text": [
      "Appending to main.py\n"
     ]
    }
   ],
   "source": [
    "%%writefile -a main.py\n",
    "import sys\n",
    "BEST_WEIGHT = sys.argv[1]\n",
    "print(f\"BEST_WEIGHT = {BEST_WEIGHT}\")"
   ]
  },
  {
   "cell_type": "markdown",
   "id": "afa0eecc",
   "metadata": {
    "papermill": {
     "duration": 0.003462,
     "end_time": "2025-05-31T21:37:21.160055",
     "exception": false,
     "start_time": "2025-05-31T21:37:21.156593",
     "status": "completed"
    },
    "tags": []
   },
   "source": [
    "# <span><h1 style = \"font-family: garamond; font-size: 40px; font-style: normal; letter-spcaing: 3px; background-color: #f6f5f5; color :#fe346e; border-radius: 100px 100px; text-align:center\">Training Configuration ⚙️</h1></span>"
   ]
  },
  {
   "cell_type": "code",
   "execution_count": 3,
   "id": "e9f685fe",
   "metadata": {
    "execution": {
     "iopub.execute_input": "2025-05-31T21:37:21.167787Z",
     "iopub.status.busy": "2025-05-31T21:37:21.167560Z",
     "iopub.status.idle": "2025-05-31T21:37:21.171541Z",
     "shell.execute_reply": "2025-05-31T21:37:21.170906Z"
    },
    "papermill": {
     "duration": 0.008998,
     "end_time": "2025-05-31T21:37:21.172561",
     "exception": false,
     "start_time": "2025-05-31T21:37:21.163563",
     "status": "completed"
    },
    "tags": []
   },
   "outputs": [
    {
     "name": "stdout",
     "output_type": "stream",
     "text": [
      "Appending to main.py\n"
     ]
    }
   ],
   "source": [
    "%%writefile -a main.py\n",
    "CONFIG = {\n",
    "    \"seed\": 42,\n",
    "    \"img_size\": 384,\n",
    "    \"model_name\": \"tf_efficientnet_b0_ns\",\n",
    "    \"valid_batch_size\": 32,\n",
    "    \"device\": torch.device(\"cuda:0\" if torch.cuda.is_available() else \"cpu\"),\n",
    "}"
   ]
  },
  {
   "cell_type": "markdown",
   "id": "512a2032",
   "metadata": {
    "papermill": {
     "duration": 0.003393,
     "end_time": "2025-05-31T21:37:21.179595",
     "exception": false,
     "start_time": "2025-05-31T21:37:21.176202",
     "status": "completed"
    },
    "tags": []
   },
   "source": [
    "# <span><h1 style = \"font-family: garamond; font-size: 40px; font-style: normal; letter-spcaing: 3px; background-color: #f6f5f5; color :#fe346e; border-radius: 100px 100px; text-align:center\">Set Seed for Reproducibility</h1></span>"
   ]
  },
  {
   "cell_type": "code",
   "execution_count": 4,
   "id": "55f8d0b1",
   "metadata": {
    "execution": {
     "iopub.execute_input": "2025-05-31T21:37:21.187319Z",
     "iopub.status.busy": "2025-05-31T21:37:21.187152Z",
     "iopub.status.idle": "2025-05-31T21:37:21.191004Z",
     "shell.execute_reply": "2025-05-31T21:37:21.190479Z"
    },
    "papermill": {
     "duration": 0.00893,
     "end_time": "2025-05-31T21:37:21.192018",
     "exception": false,
     "start_time": "2025-05-31T21:37:21.183088",
     "status": "completed"
    },
    "tags": []
   },
   "outputs": [
    {
     "name": "stdout",
     "output_type": "stream",
     "text": [
      "Appending to main.py\n"
     ]
    }
   ],
   "source": [
    "%%writefile -a main.py\n",
    "def set_seed(seed=42):\n",
    "    '''Sets the seed of the entire notebook so results are the same every time we run.\n",
    "    This is for REPRODUCIBILITY.'''\n",
    "    np.random.seed(seed)\n",
    "    torch.manual_seed(seed)\n",
    "    torch.cuda.manual_seed(seed)\n",
    "    # When running on the CuDNN backend, two further options must be set\n",
    "    torch.backends.cudnn.deterministic = True\n",
    "    torch.backends.cudnn.benchmark = False\n",
    "    # Set a fixed value for the hash seed\n",
    "    os.environ['PYTHONHASHSEED'] = str(seed)\n",
    "    \n",
    "set_seed(CONFIG['seed'])"
   ]
  },
  {
   "cell_type": "code",
   "execution_count": 5,
   "id": "d20d8ec3",
   "metadata": {
    "execution": {
     "iopub.execute_input": "2025-05-31T21:37:21.199677Z",
     "iopub.status.busy": "2025-05-31T21:37:21.199510Z",
     "iopub.status.idle": "2025-05-31T21:37:21.203281Z",
     "shell.execute_reply": "2025-05-31T21:37:21.202777Z"
    },
    "papermill": {
     "duration": 0.008684,
     "end_time": "2025-05-31T21:37:21.204227",
     "exception": false,
     "start_time": "2025-05-31T21:37:21.195543",
     "status": "completed"
    },
    "tags": []
   },
   "outputs": [
    {
     "name": "stdout",
     "output_type": "stream",
     "text": [
      "Appending to main.py\n"
     ]
    }
   ],
   "source": [
    "%%writefile -a main.py\n",
    "ROOT_DIR = \"/kaggle/input/isic-2024-challenge\"\n",
    "TEST_CSV = f'{ROOT_DIR}/test-metadata.csv'\n",
    "TEST_HDF = f'{ROOT_DIR}/test-image.hdf5'\n",
    "SAMPLE = f'{ROOT_DIR}/sample_submission.csv'\n",
    "\n",
    "#BEST_WEIGHT = \"/kaggle/input/isic-pytorch-training-baseline-image-only/AUROC0.5171_Loss0.3476_epoch35.bin\""
   ]
  },
  {
   "cell_type": "markdown",
   "id": "7531bbc7",
   "metadata": {
    "papermill": {
     "duration": 0.003893,
     "end_time": "2025-05-31T21:37:21.211808",
     "exception": false,
     "start_time": "2025-05-31T21:37:21.207915",
     "status": "completed"
    },
    "tags": []
   },
   "source": [
    "# <h1 style = \"font-family: garamond; font-size: 40px; font-style: normal; letter-spcaing: 3px; background-color: #f6f5f5; color :#fe346e; border-radius: 100px 100px; text-align:center\">Read the Data 📖</h1>"
   ]
  },
  {
   "cell_type": "code",
   "execution_count": 6,
   "id": "d1dc54a4",
   "metadata": {
    "execution": {
     "iopub.execute_input": "2025-05-31T21:37:21.219888Z",
     "iopub.status.busy": "2025-05-31T21:37:21.219685Z",
     "iopub.status.idle": "2025-05-31T21:37:21.223145Z",
     "shell.execute_reply": "2025-05-31T21:37:21.222586Z"
    },
    "papermill": {
     "duration": 0.008658,
     "end_time": "2025-05-31T21:37:21.224087",
     "exception": false,
     "start_time": "2025-05-31T21:37:21.215429",
     "status": "completed"
    },
    "tags": []
   },
   "outputs": [
    {
     "name": "stdout",
     "output_type": "stream",
     "text": [
      "Appending to main.py\n"
     ]
    }
   ],
   "source": [
    "%%writefile -a main.py\n",
    "df = pd.read_csv(TEST_CSV)\n",
    "df['target'] = 0 # dummy\n",
    "df"
   ]
  },
  {
   "cell_type": "code",
   "execution_count": 7,
   "id": "1a4acecf",
   "metadata": {
    "execution": {
     "iopub.execute_input": "2025-05-31T21:37:21.232367Z",
     "iopub.status.busy": "2025-05-31T21:37:21.232206Z",
     "iopub.status.idle": "2025-05-31T21:37:21.235895Z",
     "shell.execute_reply": "2025-05-31T21:37:21.235358Z"
    },
    "papermill": {
     "duration": 0.008595,
     "end_time": "2025-05-31T21:37:21.236821",
     "exception": false,
     "start_time": "2025-05-31T21:37:21.228226",
     "status": "completed"
    },
    "tags": []
   },
   "outputs": [
    {
     "name": "stdout",
     "output_type": "stream",
     "text": [
      "Appending to main.py\n"
     ]
    }
   ],
   "source": [
    "%%writefile -a main.py\n",
    "df_sub = pd.read_csv(SAMPLE)\n",
    "df_sub"
   ]
  },
  {
   "cell_type": "markdown",
   "id": "882bd93f",
   "metadata": {
    "papermill": {
     "duration": 0.003555,
     "end_time": "2025-05-31T21:37:21.244061",
     "exception": false,
     "start_time": "2025-05-31T21:37:21.240506",
     "status": "completed"
    },
    "tags": []
   },
   "source": [
    "# <span><h1 style = \"font-family: garamond; font-size: 40px; font-style: normal; letter-spcaing: 3px; background-color: #f6f5f5; color :#fe346e; border-radius: 100px 100px; text-align:center\">Dataset Class</h1></span>"
   ]
  },
  {
   "cell_type": "code",
   "execution_count": 8,
   "id": "38426706",
   "metadata": {
    "execution": {
     "iopub.execute_input": "2025-05-31T21:37:21.252329Z",
     "iopub.status.busy": "2025-05-31T21:37:21.251845Z",
     "iopub.status.idle": "2025-05-31T21:37:21.255996Z",
     "shell.execute_reply": "2025-05-31T21:37:21.255336Z"
    },
    "papermill": {
     "duration": 0.009364,
     "end_time": "2025-05-31T21:37:21.257149",
     "exception": false,
     "start_time": "2025-05-31T21:37:21.247785",
     "status": "completed"
    },
    "tags": []
   },
   "outputs": [
    {
     "name": "stdout",
     "output_type": "stream",
     "text": [
      "Appending to main.py\n"
     ]
    }
   ],
   "source": [
    "%%writefile -a main.py\n",
    "class ISICDataset(Dataset):\n",
    "    def __init__(self, df, file_hdf, transforms=None):\n",
    "        self.df = df\n",
    "        self.fp_hdf = h5py.File(file_hdf, mode=\"r\")\n",
    "        self.isic_ids = df['isic_id'].values\n",
    "        self.targets = df['target'].values\n",
    "        self.transforms = transforms\n",
    "        \n",
    "    def __len__(self):\n",
    "        return len(self.isic_ids)\n",
    "    \n",
    "    def __getitem__(self, index):\n",
    "        isic_id = self.isic_ids[index]\n",
    "        img = np.array( Image.open(BytesIO(self.fp_hdf[isic_id][()])) )\n",
    "        target = self.targets[index]\n",
    "        \n",
    "        if self.transforms:\n",
    "            img = self.transforms(image=img)[\"image\"]\n",
    "            \n",
    "        return {\n",
    "            'image': img,\n",
    "            'target': target,\n",
    "        }"
   ]
  },
  {
   "cell_type": "markdown",
   "id": "42d4a5a0",
   "metadata": {
    "papermill": {
     "duration": 0.003548,
     "end_time": "2025-05-31T21:37:21.264442",
     "exception": false,
     "start_time": "2025-05-31T21:37:21.260894",
     "status": "completed"
    },
    "tags": []
   },
   "source": [
    "# <span><h1 style = \"font-family: garamond; font-size: 40px; font-style: normal; letter-spcaing: 3px; background-color: #f6f5f5; color :#fe346e; border-radius: 100px 100px; text-align:center\">Augmentations</h1></span>"
   ]
  },
  {
   "cell_type": "code",
   "execution_count": 9,
   "id": "c25f6c93",
   "metadata": {
    "execution": {
     "iopub.execute_input": "2025-05-31T21:37:21.272489Z",
     "iopub.status.busy": "2025-05-31T21:37:21.272297Z",
     "iopub.status.idle": "2025-05-31T21:37:21.276129Z",
     "shell.execute_reply": "2025-05-31T21:37:21.275602Z"
    },
    "papermill": {
     "duration": 0.008908,
     "end_time": "2025-05-31T21:37:21.277061",
     "exception": false,
     "start_time": "2025-05-31T21:37:21.268153",
     "status": "completed"
    },
    "tags": []
   },
   "outputs": [
    {
     "name": "stdout",
     "output_type": "stream",
     "text": [
      "Appending to main.py\n"
     ]
    }
   ],
   "source": [
    "%%writefile -a main.py\n",
    "data_transforms = {\n",
    "    \"valid\": A.Compose([\n",
    "        A.Resize(CONFIG['img_size'], CONFIG['img_size']),\n",
    "        A.Normalize(\n",
    "                mean=[0.485, 0.456, 0.406], \n",
    "                std=[0.229, 0.224, 0.225], \n",
    "                max_pixel_value=255.0, \n",
    "                p=1.0\n",
    "            ),\n",
    "        ToTensorV2()], p=1.)\n",
    "}"
   ]
  },
  {
   "cell_type": "markdown",
   "id": "d38057c5",
   "metadata": {
    "papermill": {
     "duration": 0.003634,
     "end_time": "2025-05-31T21:37:21.284503",
     "exception": false,
     "start_time": "2025-05-31T21:37:21.280869",
     "status": "completed"
    },
    "tags": []
   },
   "source": [
    "# <span><h1 style = \"font-family: garamond; font-size: 40px; font-style: normal; letter-spcaing: 3px; background-color: #f6f5f5; color :#fe346e; border-radius: 100px 100px; text-align:center\">GeM Pooling</h1></span>"
   ]
  },
  {
   "cell_type": "code",
   "execution_count": 10,
   "id": "fa3d5cfe",
   "metadata": {
    "execution": {
     "iopub.execute_input": "2025-05-31T21:37:21.292675Z",
     "iopub.status.busy": "2025-05-31T21:37:21.292512Z",
     "iopub.status.idle": "2025-05-31T21:37:21.296310Z",
     "shell.execute_reply": "2025-05-31T21:37:21.295819Z"
    },
    "papermill": {
     "duration": 0.008928,
     "end_time": "2025-05-31T21:37:21.297237",
     "exception": false,
     "start_time": "2025-05-31T21:37:21.288309",
     "status": "completed"
    },
    "tags": []
   },
   "outputs": [
    {
     "name": "stdout",
     "output_type": "stream",
     "text": [
      "Appending to main.py\n"
     ]
    }
   ],
   "source": [
    "%%writefile -a main.py\n",
    "class GeM(nn.Module):\n",
    "    def __init__(self, p=3, eps=1e-6):\n",
    "        super(GeM, self).__init__()\n",
    "        self.p = nn.Parameter(torch.ones(1)*p)\n",
    "        self.eps = eps\n",
    "\n",
    "    def forward(self, x):\n",
    "        return self.gem(x, p=self.p, eps=self.eps)\n",
    "        \n",
    "    def gem(self, x, p=3, eps=1e-6):\n",
    "        return F.avg_pool2d(x.clamp(min=eps).pow(p), (x.size(-2), x.size(-1))).pow(1./p)\n",
    "        \n",
    "    def __repr__(self):\n",
    "        return self.__class__.__name__ + \\\n",
    "                '(' + 'p=' + '{:.4f}'.format(self.p.data.tolist()[0]) + \\\n",
    "                ', ' + 'eps=' + str(self.eps) + ')'"
   ]
  },
  {
   "cell_type": "markdown",
   "id": "c0ac593b",
   "metadata": {
    "papermill": {
     "duration": 0.003597,
     "end_time": "2025-05-31T21:37:21.304617",
     "exception": false,
     "start_time": "2025-05-31T21:37:21.301020",
     "status": "completed"
    },
    "tags": []
   },
   "source": [
    "# <span><h1 style = \"font-family: garamond; font-size: 40px; font-style: normal; letter-spcaing: 3px; background-color: #f6f5f5; color :#fe346e; border-radius: 100px 100px; text-align:center\">Create Model</h1></span>"
   ]
  },
  {
   "cell_type": "code",
   "execution_count": 11,
   "id": "f03ac0d3",
   "metadata": {
    "execution": {
     "iopub.execute_input": "2025-05-31T21:37:21.312839Z",
     "iopub.status.busy": "2025-05-31T21:37:21.312647Z",
     "iopub.status.idle": "2025-05-31T21:37:21.316426Z",
     "shell.execute_reply": "2025-05-31T21:37:21.315697Z"
    },
    "papermill": {
     "duration": 0.009038,
     "end_time": "2025-05-31T21:37:21.317494",
     "exception": false,
     "start_time": "2025-05-31T21:37:21.308456",
     "status": "completed"
    },
    "tags": []
   },
   "outputs": [
    {
     "name": "stdout",
     "output_type": "stream",
     "text": [
      "Appending to main.py\n"
     ]
    }
   ],
   "source": [
    "%%writefile -a main.py\n",
    "class ISICModel(nn.Module):\n",
    "    def __init__(self, model_name, num_classes=1, pretrained=True, checkpoint_path=None):\n",
    "        super(ISICModel, self).__init__()\n",
    "        self.model = timm.create_model(model_name, pretrained=pretrained, checkpoint_path=checkpoint_path)\n",
    "\n",
    "        in_features = self.model.classifier.in_features\n",
    "        self.model.classifier = nn.Identity()\n",
    "        self.model.global_pool = nn.Identity()\n",
    "        self.pooling = GeM()\n",
    "        self.linear = nn.Linear(in_features, num_classes)\n",
    "        self.sigmoid = nn.Sigmoid()\n",
    "\n",
    "    def forward(self, images):\n",
    "        features = self.model(images)\n",
    "        pooled_features = self.pooling(features).flatten(1)\n",
    "        output = self.sigmoid(self.linear(pooled_features))\n",
    "        return output\n",
    "    \n",
    "model = ISICModel(CONFIG['model_name'], pretrained=False)\n",
    "model.load_state_dict( torch.load(BEST_WEIGHT) )\n",
    "model.to(CONFIG['device']);"
   ]
  },
  {
   "cell_type": "markdown",
   "id": "f0149521",
   "metadata": {
    "papermill": {
     "duration": 0.003863,
     "end_time": "2025-05-31T21:37:21.325168",
     "exception": false,
     "start_time": "2025-05-31T21:37:21.321305",
     "status": "completed"
    },
    "tags": []
   },
   "source": [
    "<span style=\"color: #000508; font-family: Segoe UI; font-size: 1.5em; font-weight: 300;\">Prepare Dataloaders</span>"
   ]
  },
  {
   "cell_type": "code",
   "execution_count": 12,
   "id": "aabad689",
   "metadata": {
    "execution": {
     "iopub.execute_input": "2025-05-31T21:37:21.333415Z",
     "iopub.status.busy": "2025-05-31T21:37:21.333221Z",
     "iopub.status.idle": "2025-05-31T21:37:21.337184Z",
     "shell.execute_reply": "2025-05-31T21:37:21.336599Z"
    },
    "papermill": {
     "duration": 0.009171,
     "end_time": "2025-05-31T21:37:21.338217",
     "exception": false,
     "start_time": "2025-05-31T21:37:21.329046",
     "status": "completed"
    },
    "tags": []
   },
   "outputs": [
    {
     "name": "stdout",
     "output_type": "stream",
     "text": [
      "Appending to main.py\n"
     ]
    }
   ],
   "source": [
    "%%writefile -a main.py\n",
    "test_dataset = ISICDataset(df, TEST_HDF, transforms=data_transforms[\"valid\"])\n",
    "test_loader = DataLoader(test_dataset, batch_size=CONFIG['valid_batch_size'], \n",
    "                          num_workers=2, shuffle=False, pin_memory=True)"
   ]
  },
  {
   "cell_type": "markdown",
   "id": "bede9761",
   "metadata": {
    "papermill": {
     "duration": 0.003723,
     "end_time": "2025-05-31T21:37:21.345864",
     "exception": false,
     "start_time": "2025-05-31T21:37:21.342141",
     "status": "completed"
    },
    "tags": []
   },
   "source": [
    "<span style=\"color: #000508; font-family: Segoe UI; font-size: 1.5em; font-weight: 300;\">Start Inference</span>"
   ]
  },
  {
   "cell_type": "code",
   "execution_count": 13,
   "id": "21273981",
   "metadata": {
    "execution": {
     "iopub.execute_input": "2025-05-31T21:37:21.354822Z",
     "iopub.status.busy": "2025-05-31T21:37:21.354329Z",
     "iopub.status.idle": "2025-05-31T21:37:21.358255Z",
     "shell.execute_reply": "2025-05-31T21:37:21.357731Z"
    },
    "papermill": {
     "duration": 0.00935,
     "end_time": "2025-05-31T21:37:21.359213",
     "exception": false,
     "start_time": "2025-05-31T21:37:21.349863",
     "status": "completed"
    },
    "tags": []
   },
   "outputs": [
    {
     "name": "stdout",
     "output_type": "stream",
     "text": [
      "Appending to main.py\n"
     ]
    }
   ],
   "source": [
    "%%writefile -a main.py\n",
    "preds = []\n",
    "with torch.no_grad():\n",
    "    bar = tqdm(enumerate(test_loader), total=len(test_loader))\n",
    "    for step, data in bar:        \n",
    "        images = data['image'].to(CONFIG[\"device\"], dtype=torch.float)        \n",
    "        batch_size = images.size(0)\n",
    "        outputs = model(images)\n",
    "        preds.append( outputs.detach().cpu().numpy() )\n",
    "preds = np.concatenate(preds).flatten()"
   ]
  },
  {
   "cell_type": "code",
   "execution_count": 14,
   "id": "f6794638",
   "metadata": {
    "execution": {
     "iopub.execute_input": "2025-05-31T21:37:21.367778Z",
     "iopub.status.busy": "2025-05-31T21:37:21.367561Z",
     "iopub.status.idle": "2025-05-31T21:37:21.371470Z",
     "shell.execute_reply": "2025-05-31T21:37:21.370968Z"
    },
    "papermill": {
     "duration": 0.009276,
     "end_time": "2025-05-31T21:37:21.372456",
     "exception": false,
     "start_time": "2025-05-31T21:37:21.363180",
     "status": "completed"
    },
    "tags": []
   },
   "outputs": [
    {
     "name": "stdout",
     "output_type": "stream",
     "text": [
      "Appending to main.py\n"
     ]
    }
   ],
   "source": [
    "%%writefile -a main.py\n",
    "df_sub[\"target\"] = preds\n",
    "df_sub.to_csv(\"submission.csv\", index=False)"
   ]
  },
  {
   "cell_type": "markdown",
   "id": "55039e59",
   "metadata": {
    "papermill": {
     "duration": 0.003817,
     "end_time": "2025-05-31T21:37:21.380386",
     "exception": false,
     "start_time": "2025-05-31T21:37:21.376569",
     "status": "completed"
    },
    "tags": []
   },
   "source": [
    "# Test"
   ]
  },
  {
   "cell_type": "code",
   "execution_count": 15,
   "id": "c865b53a",
   "metadata": {
    "execution": {
     "iopub.execute_input": "2025-05-31T21:37:21.388990Z",
     "iopub.status.busy": "2025-05-31T21:37:21.388800Z",
     "iopub.status.idle": "2025-05-31T21:38:13.910277Z",
     "shell.execute_reply": "2025-05-31T21:38:13.909364Z"
    },
    "papermill": {
     "duration": 52.527348,
     "end_time": "2025-05-31T21:38:13.911651",
     "exception": false,
     "start_time": "2025-05-31T21:37:21.384303",
     "status": "completed"
    },
    "tags": []
   },
   "outputs": [
    {
     "name": "stdout",
     "output_type": "stream",
     "text": [
      "/usr/local/lib/python3.11/dist-packages/albumentations/check_version.py:107: UserWarning: Error fetching version info <urlopen error [Errno -3] Temporary failure in name resolution>\r\n",
      "  data = fetch_version_info()\r\n",
      "BEST_WEIGHT = /kaggle/input/isic-pytorch-training-baseline-image-only/AUROC0.5171_Loss0.3476_epoch35.bin\r\n",
      "100%|█████████████████████████████████████████████| 1/1 [00:00<00:00,  1.00it/s]\r\n"
     ]
    }
   ],
   "source": [
    "!python main.py /kaggle/input/isic-pytorch-training-baseline-image-only/AUROC0.5171_Loss0.3476_epoch35.bin"
   ]
  },
  {
   "cell_type": "code",
   "execution_count": 16,
   "id": "dcc1177a",
   "metadata": {
    "execution": {
     "iopub.execute_input": "2025-05-31T21:38:13.921555Z",
     "iopub.status.busy": "2025-05-31T21:38:13.921317Z",
     "iopub.status.idle": "2025-05-31T21:38:14.152331Z",
     "shell.execute_reply": "2025-05-31T21:38:14.151349Z"
    },
    "papermill": {
     "duration": 0.23761,
     "end_time": "2025-05-31T21:38:14.153871",
     "exception": false,
     "start_time": "2025-05-31T21:38:13.916261",
     "status": "completed"
    },
    "tags": []
   },
   "outputs": [
    {
     "name": "stdout",
     "output_type": "stream",
     "text": [
      "isic_id,target\r\n",
      "ISIC_0015657,0.9901834\r\n",
      "ISIC_0015729,0.040406685\r\n",
      "ISIC_0015740,0.05807737\r\n"
     ]
    }
   ],
   "source": [
    "!head submission.csv\n",
    "!rm submission.csv"
   ]
  }
 ],
 "metadata": {
  "kaggle": {
   "accelerator": "gpu",
   "dataSources": [
    {
     "databundleVersionId": 9094797,
     "sourceId": 63056,
     "sourceType": "competition"
    },
    {
     "sourceId": 186147615,
     "sourceType": "kernelVersion"
    },
    {
     "modelId": 312,
     "modelInstanceId": 2656,
     "sourceId": 3729,
     "sourceType": "modelInstanceVersion"
    }
   ],
   "isGpuEnabled": true,
   "isInternetEnabled": false,
   "language": "python",
   "sourceType": "notebook"
  },
  "kernelspec": {
   "display_name": "Python 3",
   "language": "python",
   "name": "python3"
  },
  "language_info": {
   "codemirror_mode": {
    "name": "ipython",
    "version": 3
   },
   "file_extension": ".py",
   "mimetype": "text/x-python",
   "name": "python",
   "nbconvert_exporter": "python",
   "pygments_lexer": "ipython3",
   "version": "3.11.11"
  },
  "papermill": {
   "default_parameters": {},
   "duration": 57.256236,
   "end_time": "2025-05-31T21:38:14.374321",
   "environment_variables": {},
   "exception": null,
   "input_path": "__notebook__.ipynb",
   "output_path": "__notebook__.ipynb",
   "parameters": {},
   "start_time": "2025-05-31T21:37:17.118085",
   "version": "2.5.0"
  }
 },
 "nbformat": 4,
 "nbformat_minor": 5
}
